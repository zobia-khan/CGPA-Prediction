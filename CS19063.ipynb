{
 "cells": [
  {
   "cell_type": "markdown",
   "id": "lJBdHd5zpkdz",
   "metadata": {
    "id": "lJBdHd5zpkdz"
   },
   "source": [
    "## Group Members:\n",
    "# Zobia Khan (CS-19063)\n",
    "# Muqadas Ashraf (CS-19053)\n"
   ]
  },
  {
   "cell_type": "code",
   "execution_count": 1,
   "id": "de2f2b01",
   "metadata": {
    "id": "de2f2b01"
   },
   "outputs": [],
   "source": [
    "# Importing Libraries\n",
    "import pandas as pd\n",
    "import numpy as np"
   ]
  },
  {
   "cell_type": "markdown",
   "id": "5EWgJZWv8OeB",
   "metadata": {
    "id": "5EWgJZWv8OeB"
   },
   "source": []
  },
  {
   "cell_type": "code",
   "execution_count": 2,
   "id": "3fbc27e5",
   "metadata": {
    "colab": {
     "base_uri": "https://localhost:8080/",
     "height": 1000
    },
    "id": "3fbc27e5",
    "outputId": "2714d059-a228-4b25-f645-1065037078ef"
   },
   "outputs": [
    {
     "name": "stdout",
     "output_type": "stream",
     "text": [
      "<class 'pandas.core.frame.DataFrame'>\n",
      "RangeIndex: 571 entries, 0 to 570\n",
      "Data columns (total 43 columns):\n",
      " #   Column     Non-Null Count  Dtype  \n",
      "---  ------     --------------  -----  \n",
      " 0   Seat No.   571 non-null    object \n",
      " 1   PH-121     571 non-null    object \n",
      " 2   HS-101     571 non-null    object \n",
      " 3   CY-105     570 non-null    object \n",
      " 4   HS-105/12  570 non-null    object \n",
      " 5   MT-111     569 non-null    object \n",
      " 6   CS-105     571 non-null    object \n",
      " 7   CS-106     569 non-null    object \n",
      " 8   EL-102     569 non-null    object \n",
      " 9   EE-119     569 non-null    object \n",
      " 10  ME-107     569 non-null    object \n",
      " 11  CS-107     569 non-null    object \n",
      " 12  HS-205/20  566 non-null    object \n",
      " 13  MT-222     566 non-null    object \n",
      " 14  EE-222     564 non-null    object \n",
      " 15  MT-224     564 non-null    object \n",
      " 16  CS-210     564 non-null    object \n",
      " 17  CS-211     566 non-null    object \n",
      " 18  CS-203     566 non-null    object \n",
      " 19  CS-214     565 non-null    object \n",
      " 20  EE-217     565 non-null    object \n",
      " 21  CS-212     565 non-null    object \n",
      " 22  CS-215     565 non-null    object \n",
      " 23  MT-331     562 non-null    object \n",
      " 24  EF-303     561 non-null    object \n",
      " 25  HS-304     561 non-null    object \n",
      " 26  CS-301     561 non-null    object \n",
      " 27  CS-302     561 non-null    object \n",
      " 28  TC-383     561 non-null    object \n",
      " 29  MT-442     561 non-null    object \n",
      " 30  EL-332     562 non-null    object \n",
      " 31  CS-318     562 non-null    object \n",
      " 32  CS-306     562 non-null    object \n",
      " 33  CS-312     561 non-null    object \n",
      " 34  CS-317     559 non-null    object \n",
      " 35  CS-403     559 non-null    object \n",
      " 36  CS-421     559 non-null    object \n",
      " 37  CS-406     486 non-null    object \n",
      " 38  CS-414     558 non-null    object \n",
      " 39  CS-419     558 non-null    object \n",
      " 40  CS-423     557 non-null    object \n",
      " 41  CS-412     492 non-null    object \n",
      " 42  CGPA       571 non-null    float64\n",
      "dtypes: float64(1), object(42)\n",
      "memory usage: 191.9+ KB\n"
     ]
    },
    {
     "data": {
      "text/html": [
       "<div>\n",
       "<style scoped>\n",
       "    .dataframe tbody tr th:only-of-type {\n",
       "        vertical-align: middle;\n",
       "    }\n",
       "\n",
       "    .dataframe tbody tr th {\n",
       "        vertical-align: top;\n",
       "    }\n",
       "\n",
       "    .dataframe thead th {\n",
       "        text-align: right;\n",
       "    }\n",
       "</style>\n",
       "<table border=\"1\" class=\"dataframe\">\n",
       "  <thead>\n",
       "    <tr style=\"text-align: right;\">\n",
       "      <th></th>\n",
       "      <th>Seat No.</th>\n",
       "      <th>PH-121</th>\n",
       "      <th>HS-101</th>\n",
       "      <th>CY-105</th>\n",
       "      <th>HS-105/12</th>\n",
       "      <th>MT-111</th>\n",
       "      <th>CS-105</th>\n",
       "      <th>CS-106</th>\n",
       "      <th>EL-102</th>\n",
       "      <th>EE-119</th>\n",
       "      <th>...</th>\n",
       "      <th>CS-312</th>\n",
       "      <th>CS-317</th>\n",
       "      <th>CS-403</th>\n",
       "      <th>CS-421</th>\n",
       "      <th>CS-406</th>\n",
       "      <th>CS-414</th>\n",
       "      <th>CS-419</th>\n",
       "      <th>CS-423</th>\n",
       "      <th>CS-412</th>\n",
       "      <th>CGPA</th>\n",
       "    </tr>\n",
       "  </thead>\n",
       "  <tbody>\n",
       "    <tr>\n",
       "      <th>0</th>\n",
       "      <td>CS-97001</td>\n",
       "      <td>B-</td>\n",
       "      <td>D+</td>\n",
       "      <td>C-</td>\n",
       "      <td>C</td>\n",
       "      <td>C-</td>\n",
       "      <td>D+</td>\n",
       "      <td>D</td>\n",
       "      <td>C-</td>\n",
       "      <td>B-</td>\n",
       "      <td>...</td>\n",
       "      <td>C-</td>\n",
       "      <td>C-</td>\n",
       "      <td>C-</td>\n",
       "      <td>C-</td>\n",
       "      <td>A-</td>\n",
       "      <td>A</td>\n",
       "      <td>C-</td>\n",
       "      <td>B</td>\n",
       "      <td>A-</td>\n",
       "      <td>2.205</td>\n",
       "    </tr>\n",
       "    <tr>\n",
       "      <th>1</th>\n",
       "      <td>CS-97002</td>\n",
       "      <td>A</td>\n",
       "      <td>D</td>\n",
       "      <td>D+</td>\n",
       "      <td>D</td>\n",
       "      <td>B-</td>\n",
       "      <td>C</td>\n",
       "      <td>D</td>\n",
       "      <td>A</td>\n",
       "      <td>D+</td>\n",
       "      <td>...</td>\n",
       "      <td>D+</td>\n",
       "      <td>D</td>\n",
       "      <td>C</td>\n",
       "      <td>D</td>\n",
       "      <td>A-</td>\n",
       "      <td>B-</td>\n",
       "      <td>C</td>\n",
       "      <td>C</td>\n",
       "      <td>B</td>\n",
       "      <td>2.008</td>\n",
       "    </tr>\n",
       "    <tr>\n",
       "      <th>2</th>\n",
       "      <td>CS-97003</td>\n",
       "      <td>A</td>\n",
       "      <td>B</td>\n",
       "      <td>A</td>\n",
       "      <td>B-</td>\n",
       "      <td>B+</td>\n",
       "      <td>A</td>\n",
       "      <td>B-</td>\n",
       "      <td>B+</td>\n",
       "      <td>A-</td>\n",
       "      <td>...</td>\n",
       "      <td>B</td>\n",
       "      <td>B</td>\n",
       "      <td>A</td>\n",
       "      <td>C</td>\n",
       "      <td>A</td>\n",
       "      <td>A</td>\n",
       "      <td>A</td>\n",
       "      <td>A-</td>\n",
       "      <td>A</td>\n",
       "      <td>3.608</td>\n",
       "    </tr>\n",
       "    <tr>\n",
       "      <th>3</th>\n",
       "      <td>CS-97004</td>\n",
       "      <td>D</td>\n",
       "      <td>C+</td>\n",
       "      <td>D+</td>\n",
       "      <td>D</td>\n",
       "      <td>D</td>\n",
       "      <td>A-</td>\n",
       "      <td>D+</td>\n",
       "      <td>C-</td>\n",
       "      <td>D</td>\n",
       "      <td>...</td>\n",
       "      <td>D+</td>\n",
       "      <td>C</td>\n",
       "      <td>D+</td>\n",
       "      <td>C-</td>\n",
       "      <td>B-</td>\n",
       "      <td>B</td>\n",
       "      <td>C+</td>\n",
       "      <td>C+</td>\n",
       "      <td>C+</td>\n",
       "      <td>1.906</td>\n",
       "    </tr>\n",
       "    <tr>\n",
       "      <th>4</th>\n",
       "      <td>CS-97005</td>\n",
       "      <td>A-</td>\n",
       "      <td>A-</td>\n",
       "      <td>A-</td>\n",
       "      <td>B+</td>\n",
       "      <td>A</td>\n",
       "      <td>A</td>\n",
       "      <td>A-</td>\n",
       "      <td>B+</td>\n",
       "      <td>A</td>\n",
       "      <td>...</td>\n",
       "      <td>B-</td>\n",
       "      <td>B+</td>\n",
       "      <td>B+</td>\n",
       "      <td>B-</td>\n",
       "      <td>A-</td>\n",
       "      <td>A</td>\n",
       "      <td>A-</td>\n",
       "      <td>A-</td>\n",
       "      <td>A</td>\n",
       "      <td>3.448</td>\n",
       "    </tr>\n",
       "  </tbody>\n",
       "</table>\n",
       "<p>5 rows × 43 columns</p>\n",
       "</div>"
      ],
      "text/plain": [
       "   Seat No. PH-121 HS-101 CY-105 HS-105/12 MT-111 CS-105 CS-106 EL-102 EE-119  \\\n",
       "0  CS-97001     B-     D+     C-         C     C-     D+      D     C-     B-   \n",
       "1  CS-97002      A      D     D+         D     B-      C      D      A     D+   \n",
       "2  CS-97003      A      B      A        B-     B+      A     B-     B+     A-   \n",
       "3  CS-97004      D     C+     D+         D      D     A-     D+     C-      D   \n",
       "4  CS-97005     A-     A-     A-        B+      A      A     A-     B+      A   \n",
       "\n",
       "   ... CS-312 CS-317 CS-403 CS-421 CS-406 CS-414 CS-419 CS-423 CS-412   CGPA  \n",
       "0  ...     C-     C-     C-     C-     A-      A     C-      B     A-  2.205  \n",
       "1  ...     D+      D      C      D     A-     B-      C      C      B  2.008  \n",
       "2  ...      B      B      A      C      A      A      A     A-      A  3.608  \n",
       "3  ...     D+      C     D+     C-     B-      B     C+     C+     C+  1.906  \n",
       "4  ...     B-     B+     B+     B-     A-      A     A-     A-      A  3.448  \n",
       "\n",
       "[5 rows x 43 columns]"
      ]
     },
     "execution_count": 2,
     "metadata": {},
     "output_type": "execute_result"
    }
   ],
   "source": [
    "# Reading dataset\n",
    "dataset=pd.read_csv(\"The_Grades_Dataset.csv\")\n",
    "dataset.describe()\n",
    "dataset.info()\n",
    "dataset.head()"
   ]
  },
  {
   "cell_type": "code",
   "execution_count": 3,
   "id": "96dc1206",
   "metadata": {
    "colab": {
     "base_uri": "https://localhost:8080/"
    },
    "id": "96dc1206",
    "outputId": "5c97ae81-b1ec-4a75-9f6a-aa76b541db06"
   },
   "outputs": [
    {
     "data": {
      "text/plain": [
       "0    2.205\n",
       "1    2.008\n",
       "2    3.608\n",
       "3    1.906\n",
       "4    3.448\n",
       "Name: CGPA, dtype: float64"
      ]
     },
     "execution_count": 3,
     "metadata": {},
     "output_type": "execute_result"
    }
   ],
   "source": [
    "# Saving target feature in output variable\n",
    "output=dataset.CGPA\n",
    "output.head()"
   ]
  },
  {
   "cell_type": "code",
   "execution_count": 4,
   "id": "70e0719a",
   "metadata": {
    "colab": {
     "base_uri": "https://localhost:8080/"
    },
    "id": "70e0719a",
    "outputId": "7f884896-3f21-45ea-8760-e43167d4067e"
   },
   "outputs": [
    {
     "name": "stdout",
     "output_type": "stream",
     "text": [
      "<class 'pandas.core.frame.DataFrame'>\n",
      "RangeIndex: 571 entries, 0 to 570\n",
      "Data columns (total 41 columns):\n",
      " #   Column     Non-Null Count  Dtype \n",
      "---  ------     --------------  ----- \n",
      " 0   PH-121     571 non-null    object\n",
      " 1   HS-101     571 non-null    object\n",
      " 2   CY-105     570 non-null    object\n",
      " 3   HS-105/12  570 non-null    object\n",
      " 4   MT-111     569 non-null    object\n",
      " 5   CS-105     571 non-null    object\n",
      " 6   CS-106     569 non-null    object\n",
      " 7   EL-102     569 non-null    object\n",
      " 8   EE-119     569 non-null    object\n",
      " 9   ME-107     569 non-null    object\n",
      " 10  CS-107     569 non-null    object\n",
      " 11  HS-205/20  566 non-null    object\n",
      " 12  MT-222     566 non-null    object\n",
      " 13  EE-222     564 non-null    object\n",
      " 14  MT-224     564 non-null    object\n",
      " 15  CS-210     564 non-null    object\n",
      " 16  CS-211     566 non-null    object\n",
      " 17  CS-203     566 non-null    object\n",
      " 18  CS-214     565 non-null    object\n",
      " 19  EE-217     565 non-null    object\n",
      " 20  CS-212     565 non-null    object\n",
      " 21  CS-215     565 non-null    object\n",
      " 22  MT-331     562 non-null    object\n",
      " 23  EF-303     561 non-null    object\n",
      " 24  HS-304     561 non-null    object\n",
      " 25  CS-301     561 non-null    object\n",
      " 26  CS-302     561 non-null    object\n",
      " 27  TC-383     561 non-null    object\n",
      " 28  MT-442     561 non-null    object\n",
      " 29  EL-332     562 non-null    object\n",
      " 30  CS-318     562 non-null    object\n",
      " 31  CS-306     562 non-null    object\n",
      " 32  CS-312     561 non-null    object\n",
      " 33  CS-317     559 non-null    object\n",
      " 34  CS-403     559 non-null    object\n",
      " 35  CS-421     559 non-null    object\n",
      " 36  CS-406     486 non-null    object\n",
      " 37  CS-414     558 non-null    object\n",
      " 38  CS-419     558 non-null    object\n",
      " 39  CS-423     557 non-null    object\n",
      " 40  CS-412     492 non-null    object\n",
      "dtypes: object(41)\n",
      "memory usage: 183.0+ KB\n"
     ]
    }
   ],
   "source": [
    "# Droping those features which perform no role in target computation\n",
    "courses=dataset.drop(['CGPA','Seat No.'],axis=\"columns\")\n",
    "courses.info()"
   ]
  },
  {
   "cell_type": "code",
   "execution_count": 5,
   "id": "2700e297",
   "metadata": {
    "id": "2700e297"
   },
   "outputs": [],
   "source": [
    "AssignGPs={\n",
    "    \"A+\": 4.0,\n",
    "    \"A\": 4.0,\n",
    "    \"A-\" : 3.7,\n",
    "    \"B+\" : 3.4,\n",
    "    \"B\" : 3.0,\n",
    "    \"B-\" : 2.7,\n",
    "    \"C+\" : 2.4,\n",
    "    \"C\" : 2.0,\n",
    "    \"C-\" : 1.7,\n",
    "    \"D+\" : 1.4,\n",
    "    \"D\" : 1.0,\n",
    "    \"F\" : 0.0,\n",
    "    \"WU\" :0\n",
    "}"
   ]
  },
  {
   "cell_type": "code",
   "execution_count": 6,
   "id": "f73671cf",
   "metadata": {
    "colab": {
     "base_uri": "https://localhost:8080/",
     "height": 300
    },
    "id": "f73671cf",
    "outputId": "fa07a59c-6663-4247-ebff-1c6652b5a8bf",
    "scrolled": true
   },
   "outputs": [
    {
     "data": {
      "text/html": [
       "<div>\n",
       "<style scoped>\n",
       "    .dataframe tbody tr th:only-of-type {\n",
       "        vertical-align: middle;\n",
       "    }\n",
       "\n",
       "    .dataframe tbody tr th {\n",
       "        vertical-align: top;\n",
       "    }\n",
       "\n",
       "    .dataframe thead th {\n",
       "        text-align: right;\n",
       "    }\n",
       "</style>\n",
       "<table border=\"1\" class=\"dataframe\">\n",
       "  <thead>\n",
       "    <tr style=\"text-align: right;\">\n",
       "      <th></th>\n",
       "      <th>PH-121</th>\n",
       "      <th>HS-101</th>\n",
       "      <th>CY-105</th>\n",
       "      <th>HS-105/12</th>\n",
       "      <th>MT-111</th>\n",
       "      <th>CS-105</th>\n",
       "      <th>CS-106</th>\n",
       "      <th>EL-102</th>\n",
       "      <th>EE-119</th>\n",
       "      <th>ME-107</th>\n",
       "      <th>...</th>\n",
       "      <th>CS-306</th>\n",
       "      <th>CS-312</th>\n",
       "      <th>CS-317</th>\n",
       "      <th>CS-403</th>\n",
       "      <th>CS-421</th>\n",
       "      <th>CS-406</th>\n",
       "      <th>CS-414</th>\n",
       "      <th>CS-419</th>\n",
       "      <th>CS-423</th>\n",
       "      <th>CS-412</th>\n",
       "    </tr>\n",
       "  </thead>\n",
       "  <tbody>\n",
       "    <tr>\n",
       "      <th>0</th>\n",
       "      <td>2.7</td>\n",
       "      <td>1.4</td>\n",
       "      <td>1.7</td>\n",
       "      <td>2.0</td>\n",
       "      <td>1.7</td>\n",
       "      <td>1.4</td>\n",
       "      <td>1.0</td>\n",
       "      <td>1.7</td>\n",
       "      <td>2.7</td>\n",
       "      <td>1.7</td>\n",
       "      <td>...</td>\n",
       "      <td>2.0</td>\n",
       "      <td>1.7</td>\n",
       "      <td>1.7</td>\n",
       "      <td>1.7</td>\n",
       "      <td>1.7</td>\n",
       "      <td>3.7</td>\n",
       "      <td>4.0</td>\n",
       "      <td>1.7</td>\n",
       "      <td>3.0</td>\n",
       "      <td>3.7</td>\n",
       "    </tr>\n",
       "    <tr>\n",
       "      <th>1</th>\n",
       "      <td>4.0</td>\n",
       "      <td>1.0</td>\n",
       "      <td>1.4</td>\n",
       "      <td>1.0</td>\n",
       "      <td>2.7</td>\n",
       "      <td>2.0</td>\n",
       "      <td>1.0</td>\n",
       "      <td>4.0</td>\n",
       "      <td>1.4</td>\n",
       "      <td>1.0</td>\n",
       "      <td>...</td>\n",
       "      <td>1.0</td>\n",
       "      <td>1.4</td>\n",
       "      <td>1.0</td>\n",
       "      <td>2.0</td>\n",
       "      <td>1.0</td>\n",
       "      <td>3.7</td>\n",
       "      <td>2.7</td>\n",
       "      <td>2.0</td>\n",
       "      <td>2.0</td>\n",
       "      <td>3.0</td>\n",
       "    </tr>\n",
       "    <tr>\n",
       "      <th>2</th>\n",
       "      <td>4.0</td>\n",
       "      <td>3.0</td>\n",
       "      <td>4.0</td>\n",
       "      <td>2.7</td>\n",
       "      <td>3.4</td>\n",
       "      <td>4.0</td>\n",
       "      <td>2.7</td>\n",
       "      <td>3.4</td>\n",
       "      <td>3.7</td>\n",
       "      <td>3.7</td>\n",
       "      <td>...</td>\n",
       "      <td>3.7</td>\n",
       "      <td>3.0</td>\n",
       "      <td>3.0</td>\n",
       "      <td>4.0</td>\n",
       "      <td>2.0</td>\n",
       "      <td>4.0</td>\n",
       "      <td>4.0</td>\n",
       "      <td>4.0</td>\n",
       "      <td>3.7</td>\n",
       "      <td>4.0</td>\n",
       "    </tr>\n",
       "    <tr>\n",
       "      <th>3</th>\n",
       "      <td>1.0</td>\n",
       "      <td>2.4</td>\n",
       "      <td>1.4</td>\n",
       "      <td>1.0</td>\n",
       "      <td>1.0</td>\n",
       "      <td>3.7</td>\n",
       "      <td>1.4</td>\n",
       "      <td>1.7</td>\n",
       "      <td>1.0</td>\n",
       "      <td>2.4</td>\n",
       "      <td>...</td>\n",
       "      <td>1.7</td>\n",
       "      <td>1.4</td>\n",
       "      <td>2.0</td>\n",
       "      <td>1.4</td>\n",
       "      <td>1.7</td>\n",
       "      <td>2.7</td>\n",
       "      <td>3.0</td>\n",
       "      <td>2.4</td>\n",
       "      <td>2.4</td>\n",
       "      <td>2.4</td>\n",
       "    </tr>\n",
       "    <tr>\n",
       "      <th>4</th>\n",
       "      <td>3.7</td>\n",
       "      <td>3.7</td>\n",
       "      <td>3.7</td>\n",
       "      <td>3.4</td>\n",
       "      <td>4.0</td>\n",
       "      <td>4.0</td>\n",
       "      <td>3.7</td>\n",
       "      <td>3.4</td>\n",
       "      <td>4.0</td>\n",
       "      <td>3.7</td>\n",
       "      <td>...</td>\n",
       "      <td>3.7</td>\n",
       "      <td>2.7</td>\n",
       "      <td>3.4</td>\n",
       "      <td>3.4</td>\n",
       "      <td>2.7</td>\n",
       "      <td>3.7</td>\n",
       "      <td>4.0</td>\n",
       "      <td>3.7</td>\n",
       "      <td>3.7</td>\n",
       "      <td>4.0</td>\n",
       "    </tr>\n",
       "  </tbody>\n",
       "</table>\n",
       "<p>5 rows × 41 columns</p>\n",
       "</div>"
      ],
      "text/plain": [
       "   PH-121  HS-101  CY-105  HS-105/12  MT-111  CS-105  CS-106  EL-102  EE-119  \\\n",
       "0     2.7     1.4     1.7        2.0     1.7     1.4     1.0     1.7     2.7   \n",
       "1     4.0     1.0     1.4        1.0     2.7     2.0     1.0     4.0     1.4   \n",
       "2     4.0     3.0     4.0        2.7     3.4     4.0     2.7     3.4     3.7   \n",
       "3     1.0     2.4     1.4        1.0     1.0     3.7     1.4     1.7     1.0   \n",
       "4     3.7     3.7     3.7        3.4     4.0     4.0     3.7     3.4     4.0   \n",
       "\n",
       "   ME-107  ...  CS-306  CS-312  CS-317  CS-403  CS-421  CS-406  CS-414  \\\n",
       "0     1.7  ...     2.0     1.7     1.7     1.7     1.7     3.7     4.0   \n",
       "1     1.0  ...     1.0     1.4     1.0     2.0     1.0     3.7     2.7   \n",
       "2     3.7  ...     3.7     3.0     3.0     4.0     2.0     4.0     4.0   \n",
       "3     2.4  ...     1.7     1.4     2.0     1.4     1.7     2.7     3.0   \n",
       "4     3.7  ...     3.7     2.7     3.4     3.4     2.7     3.7     4.0   \n",
       "\n",
       "   CS-419  CS-423  CS-412  \n",
       "0     1.7     3.0     3.7  \n",
       "1     2.0     2.0     3.0  \n",
       "2     4.0     3.7     4.0  \n",
       "3     2.4     2.4     2.4  \n",
       "4     3.7     3.7     4.0  \n",
       "\n",
       "[5 rows x 41 columns]"
      ]
     },
     "execution_count": 6,
     "metadata": {},
     "output_type": "execute_result"
    }
   ],
   "source": [
    "# Making string values integer by assigning GPs to grades\n",
    "for i in courses:\n",
    "    courses[i]=courses[i].map(AssignGPs)\n",
    "courses.head()"
   ]
  },
  {
   "cell_type": "code",
   "execution_count": 7,
   "id": "1f5c670a",
   "metadata": {
    "colab": {
     "base_uri": "https://localhost:8080/"
    },
    "id": "1f5c670a",
    "outputId": "08ad6a6a-7904-441a-fe67-0550eb25484f"
   },
   "outputs": [
    {
     "data": {
      "text/plain": [
       "Index(['CY-105', 'HS-105/12', 'MT-111', 'CS-106', 'EL-102', 'EE-119', 'ME-107',\n",
       "       'CS-107', 'HS-205/20', 'MT-222', 'EE-222', 'MT-224', 'CS-210', 'CS-211',\n",
       "       'CS-203', 'CS-214', 'EE-217', 'CS-212', 'CS-215', 'MT-331', 'EF-303',\n",
       "       'HS-304', 'CS-301', 'CS-302', 'TC-383', 'MT-442', 'EL-332', 'CS-318',\n",
       "       'CS-306', 'CS-312', 'CS-317', 'CS-403', 'CS-421', 'CS-406', 'CS-414',\n",
       "       'CS-419', 'CS-423', 'CS-412'],\n",
       "      dtype='object')"
      ]
     },
     "execution_count": 7,
     "metadata": {},
     "output_type": "execute_result"
    }
   ],
   "source": [
    "# Checking null values\n",
    "courses.columns[courses.isna().any()]"
   ]
  },
  {
   "cell_type": "code",
   "execution_count": 8,
   "id": "626c41d8",
   "metadata": {
    "id": "626c41d8"
   },
   "outputs": [],
   "source": [
    "# Filling 0 to null values\n",
    "courses[0:]=courses[0:].fillna(0)"
   ]
  },
  {
   "cell_type": "code",
   "execution_count": 9,
   "id": "7f63fbe0",
   "metadata": {
    "colab": {
     "base_uri": "https://localhost:8080/"
    },
    "id": "7f63fbe0",
    "outputId": "cf45e716-86f1-4b83-ec4a-c53498f8f26b"
   },
   "outputs": [
    {
     "name": "stdout",
     "output_type": "stream",
     "text": [
      "<class 'pandas.core.frame.DataFrame'>\n",
      "RangeIndex: 571 entries, 0 to 570\n",
      "Data columns (total 41 columns):\n",
      " #   Column     Non-Null Count  Dtype  \n",
      "---  ------     --------------  -----  \n",
      " 0   PH-121     571 non-null    float64\n",
      " 1   HS-101     571 non-null    float64\n",
      " 2   CY-105     571 non-null    float64\n",
      " 3   HS-105/12  571 non-null    float64\n",
      " 4   MT-111     571 non-null    float64\n",
      " 5   CS-105     571 non-null    float64\n",
      " 6   CS-106     571 non-null    float64\n",
      " 7   EL-102     571 non-null    float64\n",
      " 8   EE-119     571 non-null    float64\n",
      " 9   ME-107     571 non-null    float64\n",
      " 10  CS-107     571 non-null    float64\n",
      " 11  HS-205/20  571 non-null    float64\n",
      " 12  MT-222     571 non-null    float64\n",
      " 13  EE-222     571 non-null    float64\n",
      " 14  MT-224     571 non-null    float64\n",
      " 15  CS-210     571 non-null    float64\n",
      " 16  CS-211     571 non-null    float64\n",
      " 17  CS-203     571 non-null    float64\n",
      " 18  CS-214     571 non-null    float64\n",
      " 19  EE-217     571 non-null    float64\n",
      " 20  CS-212     571 non-null    float64\n",
      " 21  CS-215     571 non-null    float64\n",
      " 22  MT-331     571 non-null    float64\n",
      " 23  EF-303     571 non-null    float64\n",
      " 24  HS-304     571 non-null    float64\n",
      " 25  CS-301     571 non-null    float64\n",
      " 26  CS-302     571 non-null    float64\n",
      " 27  TC-383     571 non-null    float64\n",
      " 28  MT-442     571 non-null    float64\n",
      " 29  EL-332     571 non-null    float64\n",
      " 30  CS-318     571 non-null    float64\n",
      " 31  CS-306     571 non-null    float64\n",
      " 32  CS-312     571 non-null    float64\n",
      " 33  CS-317     571 non-null    float64\n",
      " 34  CS-403     571 non-null    float64\n",
      " 35  CS-421     571 non-null    float64\n",
      " 36  CS-406     571 non-null    float64\n",
      " 37  CS-414     571 non-null    float64\n",
      " 38  CS-419     571 non-null    float64\n",
      " 39  CS-423     571 non-null    float64\n",
      " 40  CS-412     571 non-null    float64\n",
      "dtypes: float64(41)\n",
      "memory usage: 183.0 KB\n"
     ]
    }
   ],
   "source": [
    "courses.info()"
   ]
  },
  {
   "cell_type": "code",
   "execution_count": 10,
   "id": "j-RxQx9nJvT-",
   "metadata": {
    "colab": {
     "base_uri": "https://localhost:8080/",
     "height": 300
    },
    "id": "j-RxQx9nJvT-",
    "outputId": "1490652f-c4c0-4526-fbc9-b52926a8762d"
   },
   "outputs": [
    {
     "data": {
      "text/html": [
       "<div>\n",
       "<style scoped>\n",
       "    .dataframe tbody tr th:only-of-type {\n",
       "        vertical-align: middle;\n",
       "    }\n",
       "\n",
       "    .dataframe tbody tr th {\n",
       "        vertical-align: top;\n",
       "    }\n",
       "\n",
       "    .dataframe thead th {\n",
       "        text-align: right;\n",
       "    }\n",
       "</style>\n",
       "<table border=\"1\" class=\"dataframe\">\n",
       "  <thead>\n",
       "    <tr style=\"text-align: right;\">\n",
       "      <th></th>\n",
       "      <th>PH-121</th>\n",
       "      <th>HS-101</th>\n",
       "      <th>CY-105</th>\n",
       "      <th>HS-105/12</th>\n",
       "      <th>MT-111</th>\n",
       "      <th>CS-105</th>\n",
       "      <th>CS-106</th>\n",
       "      <th>EL-102</th>\n",
       "      <th>EE-119</th>\n",
       "      <th>ME-107</th>\n",
       "      <th>...</th>\n",
       "      <th>CS-306</th>\n",
       "      <th>CS-312</th>\n",
       "      <th>CS-317</th>\n",
       "      <th>CS-403</th>\n",
       "      <th>CS-421</th>\n",
       "      <th>CS-406</th>\n",
       "      <th>CS-414</th>\n",
       "      <th>CS-419</th>\n",
       "      <th>CS-423</th>\n",
       "      <th>CS-412</th>\n",
       "    </tr>\n",
       "  </thead>\n",
       "  <tbody>\n",
       "    <tr>\n",
       "      <th>0</th>\n",
       "      <td>10.8</td>\n",
       "      <td>2.8</td>\n",
       "      <td>5.1</td>\n",
       "      <td>6.0</td>\n",
       "      <td>5.1</td>\n",
       "      <td>5.6</td>\n",
       "      <td>4.0</td>\n",
       "      <td>5.1</td>\n",
       "      <td>10.8</td>\n",
       "      <td>6.8</td>\n",
       "      <td>...</td>\n",
       "      <td>8.0</td>\n",
       "      <td>6.8</td>\n",
       "      <td>5.1</td>\n",
       "      <td>5.1</td>\n",
       "      <td>3.4</td>\n",
       "      <td>7.4</td>\n",
       "      <td>12.0</td>\n",
       "      <td>6.8</td>\n",
       "      <td>12.0</td>\n",
       "      <td>7.4</td>\n",
       "    </tr>\n",
       "    <tr>\n",
       "      <th>1</th>\n",
       "      <td>16.0</td>\n",
       "      <td>2.0</td>\n",
       "      <td>4.2</td>\n",
       "      <td>3.0</td>\n",
       "      <td>8.1</td>\n",
       "      <td>8.0</td>\n",
       "      <td>4.0</td>\n",
       "      <td>12.0</td>\n",
       "      <td>5.6</td>\n",
       "      <td>4.0</td>\n",
       "      <td>...</td>\n",
       "      <td>4.0</td>\n",
       "      <td>5.6</td>\n",
       "      <td>3.0</td>\n",
       "      <td>6.0</td>\n",
       "      <td>2.0</td>\n",
       "      <td>7.4</td>\n",
       "      <td>8.1</td>\n",
       "      <td>8.0</td>\n",
       "      <td>8.0</td>\n",
       "      <td>6.0</td>\n",
       "    </tr>\n",
       "    <tr>\n",
       "      <th>2</th>\n",
       "      <td>16.0</td>\n",
       "      <td>6.0</td>\n",
       "      <td>12.0</td>\n",
       "      <td>8.1</td>\n",
       "      <td>10.2</td>\n",
       "      <td>16.0</td>\n",
       "      <td>10.8</td>\n",
       "      <td>10.2</td>\n",
       "      <td>14.8</td>\n",
       "      <td>14.8</td>\n",
       "      <td>...</td>\n",
       "      <td>14.8</td>\n",
       "      <td>12.0</td>\n",
       "      <td>9.0</td>\n",
       "      <td>12.0</td>\n",
       "      <td>4.0</td>\n",
       "      <td>8.0</td>\n",
       "      <td>12.0</td>\n",
       "      <td>16.0</td>\n",
       "      <td>14.8</td>\n",
       "      <td>8.0</td>\n",
       "    </tr>\n",
       "    <tr>\n",
       "      <th>3</th>\n",
       "      <td>4.0</td>\n",
       "      <td>4.8</td>\n",
       "      <td>4.2</td>\n",
       "      <td>3.0</td>\n",
       "      <td>3.0</td>\n",
       "      <td>14.8</td>\n",
       "      <td>5.6</td>\n",
       "      <td>5.1</td>\n",
       "      <td>4.0</td>\n",
       "      <td>9.6</td>\n",
       "      <td>...</td>\n",
       "      <td>6.8</td>\n",
       "      <td>5.6</td>\n",
       "      <td>6.0</td>\n",
       "      <td>4.2</td>\n",
       "      <td>3.4</td>\n",
       "      <td>5.4</td>\n",
       "      <td>9.0</td>\n",
       "      <td>9.6</td>\n",
       "      <td>9.6</td>\n",
       "      <td>4.8</td>\n",
       "    </tr>\n",
       "    <tr>\n",
       "      <th>4</th>\n",
       "      <td>14.8</td>\n",
       "      <td>7.4</td>\n",
       "      <td>11.1</td>\n",
       "      <td>10.2</td>\n",
       "      <td>12.0</td>\n",
       "      <td>16.0</td>\n",
       "      <td>14.8</td>\n",
       "      <td>10.2</td>\n",
       "      <td>16.0</td>\n",
       "      <td>14.8</td>\n",
       "      <td>...</td>\n",
       "      <td>14.8</td>\n",
       "      <td>10.8</td>\n",
       "      <td>10.2</td>\n",
       "      <td>10.2</td>\n",
       "      <td>5.4</td>\n",
       "      <td>7.4</td>\n",
       "      <td>12.0</td>\n",
       "      <td>14.8</td>\n",
       "      <td>14.8</td>\n",
       "      <td>8.0</td>\n",
       "    </tr>\n",
       "  </tbody>\n",
       "</table>\n",
       "<p>5 rows × 41 columns</p>\n",
       "</div>"
      ],
      "text/plain": [
       "   PH-121  HS-101  CY-105  HS-105/12  MT-111  CS-105  CS-106  EL-102  EE-119  \\\n",
       "0    10.8     2.8     5.1        6.0     5.1     5.6     4.0     5.1    10.8   \n",
       "1    16.0     2.0     4.2        3.0     8.1     8.0     4.0    12.0     5.6   \n",
       "2    16.0     6.0    12.0        8.1    10.2    16.0    10.8    10.2    14.8   \n",
       "3     4.0     4.8     4.2        3.0     3.0    14.8     5.6     5.1     4.0   \n",
       "4    14.8     7.4    11.1       10.2    12.0    16.0    14.8    10.2    16.0   \n",
       "\n",
       "   ME-107  ...  CS-306  CS-312  CS-317  CS-403  CS-421  CS-406  CS-414  \\\n",
       "0     6.8  ...     8.0     6.8     5.1     5.1     3.4     7.4    12.0   \n",
       "1     4.0  ...     4.0     5.6     3.0     6.0     2.0     7.4     8.1   \n",
       "2    14.8  ...    14.8    12.0     9.0    12.0     4.0     8.0    12.0   \n",
       "3     9.6  ...     6.8     5.6     6.0     4.2     3.4     5.4     9.0   \n",
       "4    14.8  ...    14.8    10.8    10.2    10.2     5.4     7.4    12.0   \n",
       "\n",
       "   CS-419  CS-423  CS-412  \n",
       "0     6.8    12.0     7.4  \n",
       "1     8.0     8.0     6.0  \n",
       "2    16.0    14.8     8.0  \n",
       "3     9.6     9.6     4.8  \n",
       "4    14.8    14.8     8.0  \n",
       "\n",
       "[5 rows x 41 columns]"
      ]
     },
     "execution_count": 10,
     "metadata": {},
     "output_type": "execute_result"
    }
   ],
   "source": [
    "# Calculating grade points by multiplying grade points with credit hours\n",
    "four_cd=[0,5,6,8,9,10,13,18,19,20,21,25,30,31,32,38,39]\n",
    "three_cd=[2,3,4,7,12,14,15,16,22,23,26,28,33,34,37]\n",
    "two_cd=[1,11,24,27,29,35,36,40]\n",
    "onecd=[17]\n",
    "for i in four_cd:\n",
    "  courses.iloc[:, i]=courses.iloc[:, i]*4\n",
    "for i in three_cd:\n",
    "  courses.iloc[:, i]=courses.iloc[:, i]*3\n",
    "for i in two_cd:\n",
    "  courses.iloc[:, i]=courses.iloc[:, i]*2\n",
    "    \n",
    "courses.head()"
   ]
  },
  {
   "cell_type": "markdown",
   "id": "f0af4bf4",
   "metadata": {
    "id": "f0af4bf4"
   },
   "source": [
    "# **MODEL 1 (First Year GPs)**\n"
   ]
  },
  {
   "cell_type": "code",
   "execution_count": 11,
   "id": "b71209b0",
   "metadata": {
    "id": "b71209b0"
   },
   "outputs": [],
   "source": [
    "import matplotlib.pyplot as plt\n",
    "import seaborn as sns\n",
    "\n",
    "from sklearn.linear_model import LinearRegression\n",
    "from sklearn.model_selection import train_test_split"
   ]
  },
  {
   "cell_type": "code",
   "execution_count": 12,
   "id": "nYrSSN0eWAQb",
   "metadata": {
    "id": "nYrSSN0eWAQb"
   },
   "outputs": [],
   "source": [
    "# Taking all first year courses in variable first_year\n",
    "first_year=courses.loc[:, \"PH-121\":\"CS-107\"]"
   ]
  },
  {
   "cell_type": "code",
   "execution_count": 13,
   "id": "64d6f232",
   "metadata": {
    "colab": {
     "base_uri": "https://localhost:8080/",
     "height": 206
    },
    "id": "64d6f232",
    "outputId": "74816293-2cdf-4330-f32f-321c270233b1"
   },
   "outputs": [
    {
     "data": {
      "text/html": [
       "<div>\n",
       "<style scoped>\n",
       "    .dataframe tbody tr th:only-of-type {\n",
       "        vertical-align: middle;\n",
       "    }\n",
       "\n",
       "    .dataframe tbody tr th {\n",
       "        vertical-align: top;\n",
       "    }\n",
       "\n",
       "    .dataframe thead th {\n",
       "        text-align: right;\n",
       "    }\n",
       "</style>\n",
       "<table border=\"1\" class=\"dataframe\">\n",
       "  <thead>\n",
       "    <tr style=\"text-align: right;\">\n",
       "      <th></th>\n",
       "      <th>PH-121</th>\n",
       "      <th>HS-101</th>\n",
       "      <th>CY-105</th>\n",
       "      <th>HS-105/12</th>\n",
       "      <th>MT-111</th>\n",
       "      <th>CS-105</th>\n",
       "      <th>CS-106</th>\n",
       "      <th>EL-102</th>\n",
       "      <th>EE-119</th>\n",
       "      <th>ME-107</th>\n",
       "      <th>CS-107</th>\n",
       "    </tr>\n",
       "  </thead>\n",
       "  <tbody>\n",
       "    <tr>\n",
       "      <th>0</th>\n",
       "      <td>10.8</td>\n",
       "      <td>2.8</td>\n",
       "      <td>5.1</td>\n",
       "      <td>6.0</td>\n",
       "      <td>5.1</td>\n",
       "      <td>5.6</td>\n",
       "      <td>4.0</td>\n",
       "      <td>5.1</td>\n",
       "      <td>10.8</td>\n",
       "      <td>6.8</td>\n",
       "      <td>6.8</td>\n",
       "    </tr>\n",
       "    <tr>\n",
       "      <th>1</th>\n",
       "      <td>16.0</td>\n",
       "      <td>2.0</td>\n",
       "      <td>4.2</td>\n",
       "      <td>3.0</td>\n",
       "      <td>8.1</td>\n",
       "      <td>8.0</td>\n",
       "      <td>4.0</td>\n",
       "      <td>12.0</td>\n",
       "      <td>5.6</td>\n",
       "      <td>4.0</td>\n",
       "      <td>13.6</td>\n",
       "    </tr>\n",
       "    <tr>\n",
       "      <th>2</th>\n",
       "      <td>16.0</td>\n",
       "      <td>6.0</td>\n",
       "      <td>12.0</td>\n",
       "      <td>8.1</td>\n",
       "      <td>10.2</td>\n",
       "      <td>16.0</td>\n",
       "      <td>10.8</td>\n",
       "      <td>10.2</td>\n",
       "      <td>14.8</td>\n",
       "      <td>14.8</td>\n",
       "      <td>10.8</td>\n",
       "    </tr>\n",
       "    <tr>\n",
       "      <th>3</th>\n",
       "      <td>4.0</td>\n",
       "      <td>4.8</td>\n",
       "      <td>4.2</td>\n",
       "      <td>3.0</td>\n",
       "      <td>3.0</td>\n",
       "      <td>14.8</td>\n",
       "      <td>5.6</td>\n",
       "      <td>5.1</td>\n",
       "      <td>4.0</td>\n",
       "      <td>9.6</td>\n",
       "      <td>4.0</td>\n",
       "    </tr>\n",
       "    <tr>\n",
       "      <th>4</th>\n",
       "      <td>14.8</td>\n",
       "      <td>7.4</td>\n",
       "      <td>11.1</td>\n",
       "      <td>10.2</td>\n",
       "      <td>12.0</td>\n",
       "      <td>16.0</td>\n",
       "      <td>14.8</td>\n",
       "      <td>10.2</td>\n",
       "      <td>16.0</td>\n",
       "      <td>14.8</td>\n",
       "      <td>8.0</td>\n",
       "    </tr>\n",
       "  </tbody>\n",
       "</table>\n",
       "</div>"
      ],
      "text/plain": [
       "   PH-121  HS-101  CY-105  HS-105/12  MT-111  CS-105  CS-106  EL-102  EE-119  \\\n",
       "0    10.8     2.8     5.1        6.0     5.1     5.6     4.0     5.1    10.8   \n",
       "1    16.0     2.0     4.2        3.0     8.1     8.0     4.0    12.0     5.6   \n",
       "2    16.0     6.0    12.0        8.1    10.2    16.0    10.8    10.2    14.8   \n",
       "3     4.0     4.8     4.2        3.0     3.0    14.8     5.6     5.1     4.0   \n",
       "4    14.8     7.4    11.1       10.2    12.0    16.0    14.8    10.2    16.0   \n",
       "\n",
       "   ME-107  CS-107  \n",
       "0     6.8     6.8  \n",
       "1     4.0    13.6  \n",
       "2    14.8    10.8  \n",
       "3     9.6     4.0  \n",
       "4    14.8     8.0  "
      ]
     },
     "execution_count": 13,
     "metadata": {},
     "output_type": "execute_result"
    }
   ],
   "source": [
    "first_year.head()"
   ]
  },
  {
   "cell_type": "code",
   "execution_count": 14,
   "id": "f6f69820",
   "metadata": {
    "id": "f6f69820"
   },
   "outputs": [],
   "source": [
    "# Splitting training and testing data \n",
    "from sklearn.model_selection import train_test_split\n",
    "X_train, X_test, y_train, y_test = train_test_split(first_year,output,test_size=0.2)"
   ]
  },
  {
   "cell_type": "markdown",
   "id": "THx06Eb4aBOE",
   "metadata": {
    "id": "THx06Eb4aBOE"
   },
   "source": [
    "### Linear Regression Model"
   ]
  },
  {
   "cell_type": "code",
   "execution_count": 15,
   "id": "0e33055c",
   "metadata": {
    "id": "0e33055c"
   },
   "outputs": [],
   "source": [
    "model_lr=LinearRegression()"
   ]
  },
  {
   "cell_type": "code",
   "execution_count": 16,
   "id": "b6211728",
   "metadata": {
    "colab": {
     "base_uri": "https://localhost:8080/"
    },
    "id": "b6211728",
    "outputId": "d58ecfc7-5684-4fb4-ab9b-df27f1dab392"
   },
   "outputs": [
    {
     "data": {
      "text/plain": [
       "LinearRegression()"
      ]
     },
     "execution_count": 16,
     "metadata": {},
     "output_type": "execute_result"
    }
   ],
   "source": [
    "# Applying model on training data\n",
    "model_lr.fit(X_train,y_train)"
   ]
  },
  {
   "cell_type": "code",
   "execution_count": 17,
   "id": "65bb2faa",
   "metadata": {
    "colab": {
     "base_uri": "https://localhost:8080/"
    },
    "id": "65bb2faa",
    "outputId": "05466929-d972-4256-ad9a-80f54946c902"
   },
   "outputs": [
    {
     "data": {
      "text/plain": [
       "array([2.96676418, 2.0447741 , 2.58683066, 2.60448034, 3.27466976,\n",
       "       2.99858555, 3.61344625, 0.76195198, 2.68622823, 3.25100006,\n",
       "       2.44111698, 3.14093982, 2.85383405, 3.19806607, 2.57515564,\n",
       "       2.15168437, 3.1100741 , 3.70136711, 3.84805931, 2.18598597,\n",
       "       2.72986013, 2.71344981, 2.71262046, 1.81228488, 2.18085142,\n",
       "       3.30206588, 2.99028524, 3.59059418, 3.0080591 , 3.01472328,\n",
       "       3.48027565, 3.03938649, 3.39842921, 2.53876603, 3.6501123 ,\n",
       "       2.8524094 , 1.49711004, 3.61062897, 2.1630686 , 3.3943482 ,\n",
       "       3.69755962, 3.48563004, 3.63930157, 2.91890081, 3.39337966,\n",
       "       1.78823963, 3.16884663, 2.47089894, 2.88357033, 3.57946972,\n",
       "       3.27442834, 2.33483118, 3.14229136, 3.18789874, 2.87521392,\n",
       "       2.43405651, 1.7648849 , 2.87374242, 3.15241061, 3.13180458,\n",
       "       3.64327143, 3.05732129, 3.36646071, 2.96336234, 2.94999221,\n",
       "       3.12988233, 3.40946206, 3.02574764, 2.72996082, 3.6016131 ,\n",
       "       2.18405989, 3.44073303, 3.71673002, 3.15553261, 2.03350299,\n",
       "       3.70526315, 2.39924693, 2.63400759, 3.64036441, 3.2657544 ,\n",
       "       3.33222346, 2.76275283, 3.47635687, 3.01026343, 3.65319437,\n",
       "       3.32724508, 2.2051262 , 3.03619913, 3.25632992, 3.76814093,\n",
       "       3.48946229, 2.83927375, 3.27083163, 2.75976966, 2.43027644,\n",
       "       2.94397054, 3.10180188, 3.73791471, 3.65710847, 3.25694609,\n",
       "       3.34016672, 2.92525185, 1.98538858, 3.3757914 , 3.61359266,\n",
       "       3.70830044, 1.75641388, 2.89529778, 2.56538777, 3.16094107,\n",
       "       2.86619118, 3.21018124, 3.22846294, 3.60894159, 2.98347808])"
      ]
     },
     "execution_count": 17,
     "metadata": {},
     "output_type": "execute_result"
    }
   ],
   "source": [
    "# Predicting test data through model\n",
    "predictions_lr=model_lr.predict(X_test)\n",
    "predictions_lr"
   ]
  },
  {
   "cell_type": "markdown",
   "id": "XVFCWX4IbtZZ",
   "metadata": {
    "id": "XVFCWX4IbtZZ"
   },
   "source": [
    "###Evaluating The Model"
   ]
  },
  {
   "cell_type": "code",
   "execution_count": 18,
   "id": "NDZMb7U3bzm9",
   "metadata": {
    "colab": {
     "base_uri": "https://localhost:8080/"
    },
    "id": "NDZMb7U3bzm9",
    "outputId": "10d640d8-0268-4e64-9bf5-ffdd7b17bef4"
   },
   "outputs": [
    {
     "data": {
      "text/plain": [
       "0.2633951676671133"
      ]
     },
     "execution_count": 18,
     "metadata": {},
     "output_type": "execute_result"
    }
   ],
   "source": [
    "# Calculating RMSE \n",
    "from sklearn.metrics import mean_squared_error\n",
    "mse=mean_squared_error(y_test,predictions_lr)\n",
    "rmse=np.sqrt(mse)\n",
    "rmse"
   ]
  },
  {
   "cell_type": "code",
   "execution_count": 19,
   "id": "rAhJjjv2dNT_",
   "metadata": {
    "colab": {
     "base_uri": "https://localhost:8080/"
    },
    "id": "rAhJjjv2dNT_",
    "outputId": "dfa1a54a-17a5-4492-a9cc-07a7cef4b3a4"
   },
   "outputs": [
    {
     "data": {
      "text/plain": [
       "array([0.66467151, 0.84434967, 0.81057822, 0.51029797, 0.85568095,\n",
       "       0.83114517, 0.86577613, 0.60629967, 0.85917706, 0.81143309])"
      ]
     },
     "execution_count": 19,
     "metadata": {},
     "output_type": "execute_result"
    }
   ],
   "source": [
    "# Test data is cross validated with CV value 10 which returns the array of scores\n",
    "from sklearn.model_selection import cross_val_score\n",
    "results=[]\n",
    "cross_value=cross_val_score(model_lr, X_test,y_test,cv=10)\n",
    "results.append(cross_value)\n",
    "cross_value"
   ]
  },
  {
   "cell_type": "code",
   "execution_count": 20,
   "id": "SqszSR3mvVyl",
   "metadata": {
    "colab": {
     "base_uri": "https://localhost:8080/"
    },
    "id": "SqszSR3mvVyl",
    "outputId": "99e499d2-7dad-4a7c-d58c-39b5aac8457f"
   },
   "outputs": [
    {
     "data": {
      "text/plain": [
       "0.8068372070890173"
      ]
     },
     "execution_count": 20,
     "metadata": {},
     "output_type": "execute_result"
    }
   ],
   "source": [
    "# Claculating accuracy\n",
    "model_lr.score(X_test,y_test)"
   ]
  },
  {
   "cell_type": "markdown",
   "id": "EhBevMFGDosZ",
   "metadata": {
    "id": "EhBevMFGDosZ"
   },
   "source": [
    "### Support Vector Machine"
   ]
  },
  {
   "cell_type": "code",
   "execution_count": 21,
   "id": "mwMtfyZFDcML",
   "metadata": {
    "id": "mwMtfyZFDcML"
   },
   "outputs": [],
   "source": [
    "# Importing support vector regression model\n",
    "from sklearn.svm import SVR \n",
    "model_svr=SVR()"
   ]
  },
  {
   "cell_type": "code",
   "execution_count": 22,
   "id": "SxNN97nWDcMN",
   "metadata": {
    "colab": {
     "base_uri": "https://localhost:8080/"
    },
    "id": "SxNN97nWDcMN",
    "outputId": "1da4c390-5599-4ad9-d46e-6a1f470cf632"
   },
   "outputs": [
    {
     "data": {
      "text/plain": [
       "SVR()"
      ]
     },
     "execution_count": 22,
     "metadata": {},
     "output_type": "execute_result"
    }
   ],
   "source": [
    "# Applying model on training data\n",
    "model_svr.fit(X_train,y_train)"
   ]
  },
  {
   "cell_type": "code",
   "execution_count": 23,
   "id": "MlaYRPIvDcMO",
   "metadata": {
    "colab": {
     "base_uri": "https://localhost:8080/"
    },
    "id": "MlaYRPIvDcMO",
    "outputId": "d6b012e0-85f1-4457-d7ce-9ac0902695b3"
   },
   "outputs": [
    {
     "data": {
      "text/plain": [
       "array([2.92029005, 2.05031942, 2.40752683, 2.45087879, 3.16910114,\n",
       "       2.9736345 , 3.69611206, 1.38285222, 2.62240011, 3.09532242,\n",
       "       2.62519046, 3.06070191, 2.97534177, 3.18196628, 2.18973618,\n",
       "       2.33845899, 3.09273223, 3.74886199, 3.88012267, 2.17374372,\n",
       "       2.72427113, 2.59927786, 2.92344826, 1.65944036, 2.294948  ,\n",
       "       3.30338377, 3.04383108, 3.58923331, 3.15524158, 3.13173213,\n",
       "       3.47948039, 3.13721404, 3.39470867, 2.52029808, 3.61369618,\n",
       "       2.84182944, 2.26231725, 3.66133752, 2.24414236, 3.48933262,\n",
       "       3.7827561 , 3.59268487, 3.60818225, 2.80044445, 3.53567096,\n",
       "       1.72358926, 3.16084103, 2.5048655 , 2.72458168, 3.68435295,\n",
       "       3.31252169, 2.48413702, 3.08848523, 3.1857588 , 2.8523006 ,\n",
       "       2.36225842, 1.9890779 , 2.87552347, 3.15220978, 3.03055246,\n",
       "       3.7020071 , 3.05634609, 3.27607656, 2.87948685, 2.92255861,\n",
       "       3.01146728, 3.45061414, 2.95294303, 2.78103209, 3.67925051,\n",
       "       2.17042712, 3.41354408, 3.7963073 , 3.02596565, 1.94250558,\n",
       "       3.72096781, 2.25566208, 2.63215952, 3.75289258, 3.23929848,\n",
       "       3.3448237 , 2.63380509, 3.49955944, 2.97902887, 3.64481682,\n",
       "       3.13523876, 2.22365641, 2.84044917, 3.16552288, 3.80953726,\n",
       "       3.63409062, 2.64538438, 3.42367139, 2.81079112, 2.39293922,\n",
       "       2.92399311, 3.0213331 , 3.76008503, 3.7090052 , 3.07386552,\n",
       "       3.41762444, 2.80036153, 1.91730899, 3.57954244, 3.76102848,\n",
       "       3.7365305 , 2.04893182, 2.73600388, 2.58673303, 3.13228217,\n",
       "       2.69897173, 3.23625237, 3.18074866, 3.66016211, 2.88262555])"
      ]
     },
     "execution_count": 23,
     "metadata": {},
     "output_type": "execute_result"
    }
   ],
   "source": [
    "# Prediction on test data \n",
    "predictions_svr=model_svr.predict(X_test)\n",
    "predictions_svr"
   ]
  },
  {
   "cell_type": "code",
   "execution_count": 24,
   "id": "Z3poDD-TDcMQ",
   "metadata": {
    "colab": {
     "base_uri": "https://localhost:8080/"
    },
    "id": "Z3poDD-TDcMQ",
    "outputId": "541e69e1-9048-43a8-8ed0-41542972421d"
   },
   "outputs": [
    {
     "data": {
      "text/plain": [
       "0.22200098453154818"
      ]
     },
     "execution_count": 24,
     "metadata": {},
     "output_type": "execute_result"
    }
   ],
   "source": [
    "# Calculating RMSE\n",
    "from sklearn.metrics import mean_squared_error\n",
    "mse=mean_squared_error(y_test,predictions_svr)\n",
    "rmse=np.sqrt(mse)\n",
    "rmse"
   ]
  },
  {
   "cell_type": "code",
   "execution_count": 25,
   "id": "Y_hrkJAODcMS",
   "metadata": {
    "colab": {
     "base_uri": "https://localhost:8080/"
    },
    "id": "Y_hrkJAODcMS",
    "outputId": "dc90c8a2-7d77-4930-c0af-592b85ee81ca"
   },
   "outputs": [
    {
     "data": {
      "text/plain": [
       "0.8627799190727432"
      ]
     },
     "execution_count": 25,
     "metadata": {},
     "output_type": "execute_result"
    }
   ],
   "source": [
    "# Calculating Accuracy of SVR model\n",
    "model_svr.score(X_test,y_test)"
   ]
  },
  {
   "cell_type": "code",
   "execution_count": 26,
   "id": "I2Gb_96qDcMU",
   "metadata": {
    "colab": {
     "base_uri": "https://localhost:8080/"
    },
    "id": "I2Gb_96qDcMU",
    "outputId": "cc3d685d-429a-4528-ddf2-51b0ebb32ee2"
   },
   "outputs": [
    {
     "data": {
      "text/plain": [
       "array([0.37905549, 0.7826675 , 0.74756546, 0.86690963, 0.90009999,\n",
       "       0.75981635, 0.86023048, 0.73627145, 0.88318374, 0.84819637])"
      ]
     },
     "execution_count": 26,
     "metadata": {},
     "output_type": "execute_result"
    }
   ],
   "source": [
    "# Test data is cross validated with CV value 10 which returns the array of scores\n",
    "from sklearn.model_selection import cross_val_score\n",
    "cross_value=cross_val_score(model_svr, X_test,y_test,cv=10)\n",
    "results.append(cross_value)\n",
    "cross_value"
   ]
  },
  {
   "cell_type": "markdown",
   "id": "o6ZIOCfViobS",
   "metadata": {
    "id": "o6ZIOCfViobS"
   },
   "source": [
    "# **MODEL 2 (Two year GPs)**"
   ]
  },
  {
   "cell_type": "code",
   "execution_count": 27,
   "id": "noph3GdiwPjo",
   "metadata": {
    "id": "noph3GdiwPjo"
   },
   "outputs": [],
   "source": [
    "# Saving first year and second year courses in variable seccond_year\n",
    "second_year=courses.loc[:, \"PH-121\":\"CS-215\"]"
   ]
  },
  {
   "cell_type": "code",
   "execution_count": 28,
   "id": "b5WGiTePwbVj",
   "metadata": {
    "colab": {
     "base_uri": "https://localhost:8080/",
     "height": 300
    },
    "id": "b5WGiTePwbVj",
    "outputId": "4a206ce4-4eb1-4de9-83fa-16c3edad3a08"
   },
   "outputs": [
    {
     "data": {
      "text/html": [
       "<div>\n",
       "<style scoped>\n",
       "    .dataframe tbody tr th:only-of-type {\n",
       "        vertical-align: middle;\n",
       "    }\n",
       "\n",
       "    .dataframe tbody tr th {\n",
       "        vertical-align: top;\n",
       "    }\n",
       "\n",
       "    .dataframe thead th {\n",
       "        text-align: right;\n",
       "    }\n",
       "</style>\n",
       "<table border=\"1\" class=\"dataframe\">\n",
       "  <thead>\n",
       "    <tr style=\"text-align: right;\">\n",
       "      <th></th>\n",
       "      <th>PH-121</th>\n",
       "      <th>HS-101</th>\n",
       "      <th>CY-105</th>\n",
       "      <th>HS-105/12</th>\n",
       "      <th>MT-111</th>\n",
       "      <th>CS-105</th>\n",
       "      <th>CS-106</th>\n",
       "      <th>EL-102</th>\n",
       "      <th>EE-119</th>\n",
       "      <th>ME-107</th>\n",
       "      <th>...</th>\n",
       "      <th>MT-222</th>\n",
       "      <th>EE-222</th>\n",
       "      <th>MT-224</th>\n",
       "      <th>CS-210</th>\n",
       "      <th>CS-211</th>\n",
       "      <th>CS-203</th>\n",
       "      <th>CS-214</th>\n",
       "      <th>EE-217</th>\n",
       "      <th>CS-212</th>\n",
       "      <th>CS-215</th>\n",
       "    </tr>\n",
       "  </thead>\n",
       "  <tbody>\n",
       "    <tr>\n",
       "      <th>0</th>\n",
       "      <td>10.8</td>\n",
       "      <td>2.8</td>\n",
       "      <td>5.1</td>\n",
       "      <td>6.0</td>\n",
       "      <td>5.1</td>\n",
       "      <td>5.6</td>\n",
       "      <td>4.0</td>\n",
       "      <td>5.1</td>\n",
       "      <td>10.8</td>\n",
       "      <td>6.8</td>\n",
       "      <td>...</td>\n",
       "      <td>3.0</td>\n",
       "      <td>14.8</td>\n",
       "      <td>8.1</td>\n",
       "      <td>7.2</td>\n",
       "      <td>4.2</td>\n",
       "      <td>1.4</td>\n",
       "      <td>4.0</td>\n",
       "      <td>16.0</td>\n",
       "      <td>4.0</td>\n",
       "      <td>6.8</td>\n",
       "    </tr>\n",
       "    <tr>\n",
       "      <th>1</th>\n",
       "      <td>16.0</td>\n",
       "      <td>2.0</td>\n",
       "      <td>4.2</td>\n",
       "      <td>3.0</td>\n",
       "      <td>8.1</td>\n",
       "      <td>8.0</td>\n",
       "      <td>4.0</td>\n",
       "      <td>12.0</td>\n",
       "      <td>5.6</td>\n",
       "      <td>4.0</td>\n",
       "      <td>...</td>\n",
       "      <td>8.1</td>\n",
       "      <td>6.8</td>\n",
       "      <td>4.2</td>\n",
       "      <td>4.2</td>\n",
       "      <td>3.0</td>\n",
       "      <td>2.0</td>\n",
       "      <td>4.0</td>\n",
       "      <td>10.8</td>\n",
       "      <td>8.0</td>\n",
       "      <td>4.0</td>\n",
       "    </tr>\n",
       "    <tr>\n",
       "      <th>2</th>\n",
       "      <td>16.0</td>\n",
       "      <td>6.0</td>\n",
       "      <td>12.0</td>\n",
       "      <td>8.1</td>\n",
       "      <td>10.2</td>\n",
       "      <td>16.0</td>\n",
       "      <td>10.8</td>\n",
       "      <td>10.2</td>\n",
       "      <td>14.8</td>\n",
       "      <td>14.8</td>\n",
       "      <td>...</td>\n",
       "      <td>12.0</td>\n",
       "      <td>16.0</td>\n",
       "      <td>12.0</td>\n",
       "      <td>12.0</td>\n",
       "      <td>12.0</td>\n",
       "      <td>4.0</td>\n",
       "      <td>14.8</td>\n",
       "      <td>16.0</td>\n",
       "      <td>14.8</td>\n",
       "      <td>16.0</td>\n",
       "    </tr>\n",
       "    <tr>\n",
       "      <th>3</th>\n",
       "      <td>4.0</td>\n",
       "      <td>4.8</td>\n",
       "      <td>4.2</td>\n",
       "      <td>3.0</td>\n",
       "      <td>3.0</td>\n",
       "      <td>14.8</td>\n",
       "      <td>5.6</td>\n",
       "      <td>5.1</td>\n",
       "      <td>4.0</td>\n",
       "      <td>9.6</td>\n",
       "      <td>...</td>\n",
       "      <td>4.2</td>\n",
       "      <td>10.8</td>\n",
       "      <td>3.0</td>\n",
       "      <td>6.0</td>\n",
       "      <td>10.2</td>\n",
       "      <td>2.4</td>\n",
       "      <td>4.0</td>\n",
       "      <td>5.6</td>\n",
       "      <td>4.0</td>\n",
       "      <td>4.0</td>\n",
       "    </tr>\n",
       "    <tr>\n",
       "      <th>4</th>\n",
       "      <td>14.8</td>\n",
       "      <td>7.4</td>\n",
       "      <td>11.1</td>\n",
       "      <td>10.2</td>\n",
       "      <td>12.0</td>\n",
       "      <td>16.0</td>\n",
       "      <td>14.8</td>\n",
       "      <td>10.2</td>\n",
       "      <td>16.0</td>\n",
       "      <td>14.8</td>\n",
       "      <td>...</td>\n",
       "      <td>12.0</td>\n",
       "      <td>14.8</td>\n",
       "      <td>11.1</td>\n",
       "      <td>11.1</td>\n",
       "      <td>8.1</td>\n",
       "      <td>4.0</td>\n",
       "      <td>14.8</td>\n",
       "      <td>16.0</td>\n",
       "      <td>14.8</td>\n",
       "      <td>14.8</td>\n",
       "    </tr>\n",
       "  </tbody>\n",
       "</table>\n",
       "<p>5 rows × 22 columns</p>\n",
       "</div>"
      ],
      "text/plain": [
       "   PH-121  HS-101  CY-105  HS-105/12  MT-111  CS-105  CS-106  EL-102  EE-119  \\\n",
       "0    10.8     2.8     5.1        6.0     5.1     5.6     4.0     5.1    10.8   \n",
       "1    16.0     2.0     4.2        3.0     8.1     8.0     4.0    12.0     5.6   \n",
       "2    16.0     6.0    12.0        8.1    10.2    16.0    10.8    10.2    14.8   \n",
       "3     4.0     4.8     4.2        3.0     3.0    14.8     5.6     5.1     4.0   \n",
       "4    14.8     7.4    11.1       10.2    12.0    16.0    14.8    10.2    16.0   \n",
       "\n",
       "   ME-107  ...  MT-222  EE-222  MT-224  CS-210  CS-211  CS-203  CS-214  \\\n",
       "0     6.8  ...     3.0    14.8     8.1     7.2     4.2     1.4     4.0   \n",
       "1     4.0  ...     8.1     6.8     4.2     4.2     3.0     2.0     4.0   \n",
       "2    14.8  ...    12.0    16.0    12.0    12.0    12.0     4.0    14.8   \n",
       "3     9.6  ...     4.2    10.8     3.0     6.0    10.2     2.4     4.0   \n",
       "4    14.8  ...    12.0    14.8    11.1    11.1     8.1     4.0    14.8   \n",
       "\n",
       "   EE-217  CS-212  CS-215  \n",
       "0    16.0     4.0     6.8  \n",
       "1    10.8     8.0     4.0  \n",
       "2    16.0    14.8    16.0  \n",
       "3     5.6     4.0     4.0  \n",
       "4    16.0    14.8    14.8  \n",
       "\n",
       "[5 rows x 22 columns]"
      ]
     },
     "execution_count": 28,
     "metadata": {},
     "output_type": "execute_result"
    }
   ],
   "source": [
    "second_year.head()"
   ]
  },
  {
   "cell_type": "code",
   "execution_count": 29,
   "id": "sJkUjvGKxT3s",
   "metadata": {
    "id": "sJkUjvGKxT3s"
   },
   "outputs": [],
   "source": [
    "# Splitting trainin and testing data\n",
    "from sklearn.model_selection import train_test_split\n",
    "X_train, X_test, y_train, y_test = train_test_split(second_year,output,test_size=0.2)"
   ]
  },
  {
   "cell_type": "markdown",
   "id": "1dWxw2DzTsj2",
   "metadata": {
    "id": "1dWxw2DzTsj2"
   },
   "source": [
    "### Linear Regression"
   ]
  },
  {
   "cell_type": "code",
   "execution_count": 30,
   "id": "uaTN-K_sxjI1",
   "metadata": {
    "id": "uaTN-K_sxjI1"
   },
   "outputs": [],
   "source": [
    "model_lr2=LinearRegression()"
   ]
  },
  {
   "cell_type": "code",
   "execution_count": 31,
   "id": "3l_K4aqJxjI6",
   "metadata": {
    "colab": {
     "base_uri": "https://localhost:8080/"
    },
    "id": "3l_K4aqJxjI6",
    "outputId": "f2a90ed7-be9e-45e3-9a36-a264a09b6b1f"
   },
   "outputs": [
    {
     "data": {
      "text/plain": [
       "LinearRegression()"
      ]
     },
     "execution_count": 31,
     "metadata": {},
     "output_type": "execute_result"
    }
   ],
   "source": [
    "# Applying model on training data\n",
    "model_lr2.fit(X_train,y_train)"
   ]
  },
  {
   "cell_type": "code",
   "execution_count": 32,
   "id": "ruk14idxxjI9",
   "metadata": {
    "colab": {
     "base_uri": "https://localhost:8080/"
    },
    "id": "ruk14idxxjI9",
    "outputId": "0a1ffb73-e8a9-448e-bdea-5c5441f03b18"
   },
   "outputs": [
    {
     "data": {
      "text/plain": [
       "array([3.32163643, 2.32648984, 3.01489431, 1.99016204, 2.86214258,\n",
       "       3.18245559, 1.79736078, 1.92643465, 3.84866804, 3.25777543,\n",
       "       2.79823937, 3.09980331, 2.66661033, 3.68697088, 3.41775061,\n",
       "       2.36735594, 2.4430908 , 3.05018917, 2.4517564 , 3.36192643,\n",
       "       2.90972663, 3.53182226, 2.93579758, 2.74051204, 3.18844166,\n",
       "       3.81292764, 2.82875493, 2.568012  , 2.22930375, 2.23276497,\n",
       "       3.11750113, 2.78465018, 2.78810765, 3.05812639, 2.62747719,\n",
       "       2.47019039, 2.86496929, 3.88467258, 2.52235366, 3.04158023,\n",
       "       3.58957032, 3.4851086 , 2.39125685, 3.1878579 , 2.31212987,\n",
       "       3.48692799, 3.03135024, 2.008025  , 3.22397883, 2.74248062,\n",
       "       2.95598387, 2.45690358, 2.11153451, 3.68488653, 3.4835584 ,\n",
       "       3.40667702, 1.90007507, 1.63474595, 3.83272662, 3.64378361,\n",
       "       3.41141558, 2.83383814, 3.71786688, 2.87967647, 1.75145232,\n",
       "       3.36570314, 3.47583064, 3.63184968, 3.66219572, 3.23865341,\n",
       "       2.34633824, 2.83331251, 3.64456225, 3.10831019, 3.32143414,\n",
       "       3.489187  , 3.43681365, 2.75446715, 2.83639113, 3.00673785,\n",
       "       3.65928013, 1.88590546, 3.37050655, 3.73157523, 1.60746115,\n",
       "       3.87846371, 3.81589179, 1.9265586 , 3.19418148, 2.1375218 ,\n",
       "       2.65739711, 2.5663165 , 2.03923943, 3.47839631, 2.28619947,\n",
       "       2.22763064, 2.36227772, 2.80699962, 2.04587833, 3.06505749,\n",
       "       3.233845  , 3.40417194, 2.94125433, 2.74600319, 3.69104538,\n",
       "       3.00290899, 0.66837956, 2.52967045, 3.64800777, 3.52379556,\n",
       "       2.54867391, 2.30461941, 2.53964045, 1.03280657, 2.5072302 ])"
      ]
     },
     "execution_count": 32,
     "metadata": {},
     "output_type": "execute_result"
    }
   ],
   "source": [
    "# Predictions on test data\n",
    "predictions_lr2=model_lr2.predict(X_test)\n",
    "predictions_lr2"
   ]
  },
  {
   "cell_type": "code",
   "execution_count": 33,
   "id": "2CBud6g6xjI_",
   "metadata": {
    "colab": {
     "base_uri": "https://localhost:8080/"
    },
    "id": "2CBud6g6xjI_",
    "outputId": "de3f383a-99f5-451d-a8a3-f0e8ccc3c8ac"
   },
   "outputs": [
    {
     "data": {
      "text/plain": [
       "0.19432514678601603"
      ]
     },
     "execution_count": 33,
     "metadata": {},
     "output_type": "execute_result"
    }
   ],
   "source": [
    "# Calculating RMSE\n",
    "from sklearn.metrics import mean_squared_error\n",
    "mse=mean_squared_error(y_test,predictions_lr2)\n",
    "rmse=np.sqrt(mse)\n",
    "rmse"
   ]
  },
  {
   "cell_type": "code",
   "execution_count": 34,
   "id": "wyZm64mXxjJA",
   "metadata": {
    "colab": {
     "base_uri": "https://localhost:8080/"
    },
    "id": "wyZm64mXxjJA",
    "outputId": "f4953966-09ae-49c5-8d28-fac84e74750c"
   },
   "outputs": [
    {
     "data": {
      "text/plain": [
       "array([0.96691323, 0.78097442, 0.73941346, 0.82578952, 0.86361746,\n",
       "       0.95925052, 0.94430536, 0.60189506, 0.77374564, 0.94674088])"
      ]
     },
     "execution_count": 34,
     "metadata": {},
     "output_type": "execute_result"
    }
   ],
   "source": [
    "# Test data is cross validated with CV value 10 which returns the array of scores\n",
    "from sklearn.model_selection import cross_val_score\n",
    "cross_value=cross_val_score(model_lr2, X_test,y_test,cv=10)\n",
    "results.append(cross_value)\n",
    "cross_value"
   ]
  },
  {
   "cell_type": "code",
   "execution_count": 35,
   "id": "fNtj39qGxjJC",
   "metadata": {
    "colab": {
     "base_uri": "https://localhost:8080/"
    },
    "id": "fNtj39qGxjJC",
    "outputId": "599e4402-fad0-42d1-a5ec-b45a3f21608d"
   },
   "outputs": [
    {
     "data": {
      "text/plain": [
       "0.9035939655948497"
      ]
     },
     "execution_count": 35,
     "metadata": {},
     "output_type": "execute_result"
    }
   ],
   "source": [
    "# Calculating Accuracy of the model\n",
    "model_lr2.score(X_test,y_test)"
   ]
  },
  {
   "cell_type": "markdown",
   "id": "BZCinBVAyREw",
   "metadata": {
    "id": "BZCinBVAyREw"
   },
   "source": [
    "### Support Vector Machine"
   ]
  },
  {
   "cell_type": "code",
   "execution_count": 36,
   "id": "CoK0gGyFyREw",
   "metadata": {
    "id": "CoK0gGyFyREw"
   },
   "outputs": [],
   "source": [
    "from sklearn.svm import SVR \n",
    "model_svr2=SVR()"
   ]
  },
  {
   "cell_type": "code",
   "execution_count": 37,
   "id": "f3iK4f3JyREx",
   "metadata": {
    "colab": {
     "base_uri": "https://localhost:8080/"
    },
    "id": "f3iK4f3JyREx",
    "outputId": "09283d43-01e9-452b-948d-aa705e596b1c"
   },
   "outputs": [
    {
     "data": {
      "text/plain": [
       "SVR()"
      ]
     },
     "execution_count": 37,
     "metadata": {},
     "output_type": "execute_result"
    }
   ],
   "source": [
    "# Applying model on training data\n",
    "model_svr2.fit(X_train,y_train)"
   ]
  },
  {
   "cell_type": "code",
   "execution_count": 38,
   "id": "lD3PZBLY_uNk",
   "metadata": {
    "colab": {
     "base_uri": "https://localhost:8080/"
    },
    "id": "lD3PZBLY_uNk",
    "outputId": "4a8856ed-e45c-4ad0-f278-accf4da64468"
   },
   "outputs": [
    {
     "data": {
      "text/plain": [
       "array([3.3805324 , 2.33286075, 3.26547566, 2.09087927, 2.84996979,\n",
       "       3.22708272, 1.99783655, 1.81654985, 3.8717842 , 3.103294  ,\n",
       "       2.57618061, 2.81345308, 2.50542735, 3.79882353, 3.54874907,\n",
       "       2.26859041, 2.53058391, 2.99857726, 2.60824976, 3.5002952 ,\n",
       "       2.97603536, 3.57348135, 3.08084512, 2.76027668, 3.15600724,\n",
       "       3.84003832, 2.5029763 , 2.52386815, 2.08785583, 2.2156408 ,\n",
       "       3.04099852, 2.55531557, 2.6640326 , 3.03057071, 2.63018126,\n",
       "       2.45045721, 2.78935601, 3.85113587, 2.64315696, 2.95227928,\n",
       "       3.49299871, 3.38412386, 2.45374502, 3.12014875, 2.34144287,\n",
       "       3.49099647, 3.00990114, 2.05736747, 3.21239703, 2.73358025,\n",
       "       2.81998358, 2.49404813, 2.06304378, 3.74215751, 3.28505162,\n",
       "       3.4071951 , 1.97432876, 1.5988472 , 3.8192652 , 3.59730656,\n",
       "       3.46361436, 2.79657204, 3.67365718, 2.87900061, 1.80986786,\n",
       "       3.31803543, 3.56157133, 3.62258509, 3.75410342, 3.16664666,\n",
       "       2.30360603, 2.87901235, 3.69670654, 2.85546437, 3.37513875,\n",
       "       3.56581609, 3.52895233, 2.67086268, 2.48289633, 2.95522621,\n",
       "       3.66276045, 1.90739819, 3.3950922 , 3.77332893, 2.19898756,\n",
       "       3.87349073, 3.85351491, 1.89299656, 2.9636038 , 2.20564237,\n",
       "       2.76759455, 2.74370361, 2.08536479, 3.46255324, 2.25399117,\n",
       "       2.21450597, 2.24748157, 2.64594795, 1.98152706, 3.12738689,\n",
       "       3.30244247, 3.34272304, 2.62860707, 2.73176952, 3.82120334,\n",
       "       3.02855908, 1.19564155, 2.6463418 , 3.64459212, 3.48620748,\n",
       "       2.63577054, 2.33924132, 2.49577056, 1.46971324, 2.53545714])"
      ]
     },
     "execution_count": 38,
     "metadata": {},
     "output_type": "execute_result"
    }
   ],
   "source": [
    "# Predictions on test data\n",
    "predictions_svr2 = model_svr2.predict(X_test)\n",
    "predictions_svr2\n"
   ]
  },
  {
   "cell_type": "code",
   "execution_count": 39,
   "id": "O423iX58yREz",
   "metadata": {
    "colab": {
     "base_uri": "https://localhost:8080/"
    },
    "id": "O423iX58yREz",
    "outputId": "7f6b7904-fadb-4cd7-ba7f-e34856a8e426"
   },
   "outputs": [
    {
     "data": {
      "text/plain": [
       "0.15766105253337306"
      ]
     },
     "execution_count": 39,
     "metadata": {},
     "output_type": "execute_result"
    }
   ],
   "source": [
    "# Calculating RMSE\n",
    "from sklearn.metrics import mean_squared_error\n",
    "mse=mean_squared_error(y_test,predictions_svr2)\n",
    "rmse=np.sqrt(mse)\n",
    "rmse"
   ]
  },
  {
   "cell_type": "code",
   "execution_count": 40,
   "id": "__2SPwlqyRE1",
   "metadata": {
    "colab": {
     "base_uri": "https://localhost:8080/"
    },
    "id": "__2SPwlqyRE1",
    "outputId": "e0995cf8-5014-4a40-ba45-080bd9c00bc4"
   },
   "outputs": [
    {
     "data": {
      "text/plain": [
       "0.9365407327515537"
      ]
     },
     "execution_count": 40,
     "metadata": {},
     "output_type": "execute_result"
    }
   ],
   "source": [
    "# Calculating accuracy of the model\n",
    "model_svr2.score(X_test,y_test)"
   ]
  },
  {
   "cell_type": "code",
   "execution_count": 41,
   "id": "jfbliPFYyRE1",
   "metadata": {
    "colab": {
     "base_uri": "https://localhost:8080/"
    },
    "id": "jfbliPFYyRE1",
    "outputId": "3d02dc5f-2f0e-4450-b2e6-b8c2b21e73c2"
   },
   "outputs": [
    {
     "data": {
      "text/plain": [
       "array([0.95339099, 0.91619184, 0.8920262 , 0.95070942, 0.91360732,\n",
       "       0.97556742, 0.94164052, 0.88271789, 0.77552622, 0.53432422])"
      ]
     },
     "execution_count": 41,
     "metadata": {},
     "output_type": "execute_result"
    }
   ],
   "source": [
    "# Test data is cross validated with CV value 10 which returns the array of scores\n",
    "from sklearn.model_selection import cross_val_score\n",
    "cross_value=cross_val_score(model_svr2, X_test,y_test,cv=10)\n",
    "results.append(cross_value)\n",
    "cross_value"
   ]
  },
  {
   "cell_type": "markdown",
   "id": "YoqgRbQnK31G",
   "metadata": {
    "id": "YoqgRbQnK31G"
   },
   "source": [
    "# **MODEL 3(Three Year GPs)**"
   ]
  },
  {
   "cell_type": "code",
   "execution_count": 42,
   "id": "7Z7Mm8D1uyQL",
   "metadata": {
    "colab": {
     "base_uri": "https://localhost:8080/",
     "height": 300
    },
    "id": "7Z7Mm8D1uyQL",
    "outputId": "ca064e80-ebbc-46af-ac43-f75ed358d506"
   },
   "outputs": [
    {
     "data": {
      "text/html": [
       "<div>\n",
       "<style scoped>\n",
       "    .dataframe tbody tr th:only-of-type {\n",
       "        vertical-align: middle;\n",
       "    }\n",
       "\n",
       "    .dataframe tbody tr th {\n",
       "        vertical-align: top;\n",
       "    }\n",
       "\n",
       "    .dataframe thead th {\n",
       "        text-align: right;\n",
       "    }\n",
       "</style>\n",
       "<table border=\"1\" class=\"dataframe\">\n",
       "  <thead>\n",
       "    <tr style=\"text-align: right;\">\n",
       "      <th></th>\n",
       "      <th>PH-121</th>\n",
       "      <th>HS-101</th>\n",
       "      <th>CY-105</th>\n",
       "      <th>HS-105/12</th>\n",
       "      <th>MT-111</th>\n",
       "      <th>CS-105</th>\n",
       "      <th>CS-106</th>\n",
       "      <th>EL-102</th>\n",
       "      <th>EE-119</th>\n",
       "      <th>ME-107</th>\n",
       "      <th>...</th>\n",
       "      <th>CS-306</th>\n",
       "      <th>CS-312</th>\n",
       "      <th>CS-317</th>\n",
       "      <th>CS-403</th>\n",
       "      <th>CS-421</th>\n",
       "      <th>CS-406</th>\n",
       "      <th>CS-414</th>\n",
       "      <th>CS-419</th>\n",
       "      <th>CS-423</th>\n",
       "      <th>CS-412</th>\n",
       "    </tr>\n",
       "  </thead>\n",
       "  <tbody>\n",
       "    <tr>\n",
       "      <th>0</th>\n",
       "      <td>10.8</td>\n",
       "      <td>2.8</td>\n",
       "      <td>5.1</td>\n",
       "      <td>6.0</td>\n",
       "      <td>5.1</td>\n",
       "      <td>5.6</td>\n",
       "      <td>4.0</td>\n",
       "      <td>5.1</td>\n",
       "      <td>10.8</td>\n",
       "      <td>6.8</td>\n",
       "      <td>...</td>\n",
       "      <td>8.0</td>\n",
       "      <td>6.8</td>\n",
       "      <td>5.1</td>\n",
       "      <td>5.1</td>\n",
       "      <td>3.4</td>\n",
       "      <td>7.4</td>\n",
       "      <td>12.0</td>\n",
       "      <td>6.8</td>\n",
       "      <td>12.0</td>\n",
       "      <td>7.4</td>\n",
       "    </tr>\n",
       "    <tr>\n",
       "      <th>1</th>\n",
       "      <td>16.0</td>\n",
       "      <td>2.0</td>\n",
       "      <td>4.2</td>\n",
       "      <td>3.0</td>\n",
       "      <td>8.1</td>\n",
       "      <td>8.0</td>\n",
       "      <td>4.0</td>\n",
       "      <td>12.0</td>\n",
       "      <td>5.6</td>\n",
       "      <td>4.0</td>\n",
       "      <td>...</td>\n",
       "      <td>4.0</td>\n",
       "      <td>5.6</td>\n",
       "      <td>3.0</td>\n",
       "      <td>6.0</td>\n",
       "      <td>2.0</td>\n",
       "      <td>7.4</td>\n",
       "      <td>8.1</td>\n",
       "      <td>8.0</td>\n",
       "      <td>8.0</td>\n",
       "      <td>6.0</td>\n",
       "    </tr>\n",
       "    <tr>\n",
       "      <th>2</th>\n",
       "      <td>16.0</td>\n",
       "      <td>6.0</td>\n",
       "      <td>12.0</td>\n",
       "      <td>8.1</td>\n",
       "      <td>10.2</td>\n",
       "      <td>16.0</td>\n",
       "      <td>10.8</td>\n",
       "      <td>10.2</td>\n",
       "      <td>14.8</td>\n",
       "      <td>14.8</td>\n",
       "      <td>...</td>\n",
       "      <td>14.8</td>\n",
       "      <td>12.0</td>\n",
       "      <td>9.0</td>\n",
       "      <td>12.0</td>\n",
       "      <td>4.0</td>\n",
       "      <td>8.0</td>\n",
       "      <td>12.0</td>\n",
       "      <td>16.0</td>\n",
       "      <td>14.8</td>\n",
       "      <td>8.0</td>\n",
       "    </tr>\n",
       "    <tr>\n",
       "      <th>3</th>\n",
       "      <td>4.0</td>\n",
       "      <td>4.8</td>\n",
       "      <td>4.2</td>\n",
       "      <td>3.0</td>\n",
       "      <td>3.0</td>\n",
       "      <td>14.8</td>\n",
       "      <td>5.6</td>\n",
       "      <td>5.1</td>\n",
       "      <td>4.0</td>\n",
       "      <td>9.6</td>\n",
       "      <td>...</td>\n",
       "      <td>6.8</td>\n",
       "      <td>5.6</td>\n",
       "      <td>6.0</td>\n",
       "      <td>4.2</td>\n",
       "      <td>3.4</td>\n",
       "      <td>5.4</td>\n",
       "      <td>9.0</td>\n",
       "      <td>9.6</td>\n",
       "      <td>9.6</td>\n",
       "      <td>4.8</td>\n",
       "    </tr>\n",
       "    <tr>\n",
       "      <th>4</th>\n",
       "      <td>14.8</td>\n",
       "      <td>7.4</td>\n",
       "      <td>11.1</td>\n",
       "      <td>10.2</td>\n",
       "      <td>12.0</td>\n",
       "      <td>16.0</td>\n",
       "      <td>14.8</td>\n",
       "      <td>10.2</td>\n",
       "      <td>16.0</td>\n",
       "      <td>14.8</td>\n",
       "      <td>...</td>\n",
       "      <td>14.8</td>\n",
       "      <td>10.8</td>\n",
       "      <td>10.2</td>\n",
       "      <td>10.2</td>\n",
       "      <td>5.4</td>\n",
       "      <td>7.4</td>\n",
       "      <td>12.0</td>\n",
       "      <td>14.8</td>\n",
       "      <td>14.8</td>\n",
       "      <td>8.0</td>\n",
       "    </tr>\n",
       "  </tbody>\n",
       "</table>\n",
       "<p>5 rows × 41 columns</p>\n",
       "</div>"
      ],
      "text/plain": [
       "   PH-121  HS-101  CY-105  HS-105/12  MT-111  CS-105  CS-106  EL-102  EE-119  \\\n",
       "0    10.8     2.8     5.1        6.0     5.1     5.6     4.0     5.1    10.8   \n",
       "1    16.0     2.0     4.2        3.0     8.1     8.0     4.0    12.0     5.6   \n",
       "2    16.0     6.0    12.0        8.1    10.2    16.0    10.8    10.2    14.8   \n",
       "3     4.0     4.8     4.2        3.0     3.0    14.8     5.6     5.1     4.0   \n",
       "4    14.8     7.4    11.1       10.2    12.0    16.0    14.8    10.2    16.0   \n",
       "\n",
       "   ME-107  ...  CS-306  CS-312  CS-317  CS-403  CS-421  CS-406  CS-414  \\\n",
       "0     6.8  ...     8.0     6.8     5.1     5.1     3.4     7.4    12.0   \n",
       "1     4.0  ...     4.0     5.6     3.0     6.0     2.0     7.4     8.1   \n",
       "2    14.8  ...    14.8    12.0     9.0    12.0     4.0     8.0    12.0   \n",
       "3     9.6  ...     6.8     5.6     6.0     4.2     3.4     5.4     9.0   \n",
       "4    14.8  ...    14.8    10.8    10.2    10.2     5.4     7.4    12.0   \n",
       "\n",
       "   CS-419  CS-423  CS-412  \n",
       "0     6.8    12.0     7.4  \n",
       "1     8.0     8.0     6.0  \n",
       "2    16.0    14.8     8.0  \n",
       "3     9.6     9.6     4.8  \n",
       "4    14.8    14.8     8.0  \n",
       "\n",
       "[5 rows x 41 columns]"
      ]
     },
     "execution_count": 42,
     "metadata": {},
     "output_type": "execute_result"
    }
   ],
   "source": [
    "courses.head()"
   ]
  },
  {
   "cell_type": "code",
   "execution_count": 43,
   "id": "tXPACEz-saM3",
   "metadata": {
    "id": "tXPACEz-saM3"
   },
   "outputs": [],
   "source": [
    "column_to_move = courses.pop(\"MT-442\")\n",
    "courses.insert(33, \"MT-442\", column_to_move)"
   ]
  },
  {
   "cell_type": "code",
   "execution_count": 44,
   "id": "b33hqNA2K2H_",
   "metadata": {
    "id": "b33hqNA2K2H_"
   },
   "outputs": [],
   "source": [
    "# Saving courses from first year to third year in variable Third_year\n",
    "Third_year=courses.loc[:, \"PH-121\":\"CS-317\"]"
   ]
  },
  {
   "cell_type": "code",
   "execution_count": 45,
   "id": "Xe77wXbMPSeN",
   "metadata": {
    "colab": {
     "base_uri": "https://localhost:8080/",
     "height": 300
    },
    "id": "Xe77wXbMPSeN",
    "outputId": "7f1f9d7a-0289-4541-a546-efcab3db6e11"
   },
   "outputs": [
    {
     "data": {
      "text/html": [
       "<div>\n",
       "<style scoped>\n",
       "    .dataframe tbody tr th:only-of-type {\n",
       "        vertical-align: middle;\n",
       "    }\n",
       "\n",
       "    .dataframe tbody tr th {\n",
       "        vertical-align: top;\n",
       "    }\n",
       "\n",
       "    .dataframe thead th {\n",
       "        text-align: right;\n",
       "    }\n",
       "</style>\n",
       "<table border=\"1\" class=\"dataframe\">\n",
       "  <thead>\n",
       "    <tr style=\"text-align: right;\">\n",
       "      <th></th>\n",
       "      <th>PH-121</th>\n",
       "      <th>HS-101</th>\n",
       "      <th>CY-105</th>\n",
       "      <th>HS-105/12</th>\n",
       "      <th>MT-111</th>\n",
       "      <th>CS-105</th>\n",
       "      <th>CS-106</th>\n",
       "      <th>EL-102</th>\n",
       "      <th>EE-119</th>\n",
       "      <th>ME-107</th>\n",
       "      <th>...</th>\n",
       "      <th>EF-303</th>\n",
       "      <th>HS-304</th>\n",
       "      <th>CS-301</th>\n",
       "      <th>CS-302</th>\n",
       "      <th>TC-383</th>\n",
       "      <th>EL-332</th>\n",
       "      <th>CS-318</th>\n",
       "      <th>CS-306</th>\n",
       "      <th>CS-312</th>\n",
       "      <th>CS-317</th>\n",
       "    </tr>\n",
       "  </thead>\n",
       "  <tbody>\n",
       "    <tr>\n",
       "      <th>0</th>\n",
       "      <td>10.8</td>\n",
       "      <td>2.8</td>\n",
       "      <td>5.1</td>\n",
       "      <td>6.0</td>\n",
       "      <td>5.1</td>\n",
       "      <td>5.6</td>\n",
       "      <td>4.0</td>\n",
       "      <td>5.1</td>\n",
       "      <td>10.8</td>\n",
       "      <td>6.8</td>\n",
       "      <td>...</td>\n",
       "      <td>5.1</td>\n",
       "      <td>4.8</td>\n",
       "      <td>12.0</td>\n",
       "      <td>6.0</td>\n",
       "      <td>4.8</td>\n",
       "      <td>4.0</td>\n",
       "      <td>6.8</td>\n",
       "      <td>8.0</td>\n",
       "      <td>6.8</td>\n",
       "      <td>5.1</td>\n",
       "    </tr>\n",
       "    <tr>\n",
       "      <th>1</th>\n",
       "      <td>16.0</td>\n",
       "      <td>2.0</td>\n",
       "      <td>4.2</td>\n",
       "      <td>3.0</td>\n",
       "      <td>8.1</td>\n",
       "      <td>8.0</td>\n",
       "      <td>4.0</td>\n",
       "      <td>12.0</td>\n",
       "      <td>5.6</td>\n",
       "      <td>4.0</td>\n",
       "      <td>...</td>\n",
       "      <td>3.0</td>\n",
       "      <td>3.4</td>\n",
       "      <td>14.8</td>\n",
       "      <td>4.2</td>\n",
       "      <td>3.4</td>\n",
       "      <td>4.0</td>\n",
       "      <td>14.8</td>\n",
       "      <td>4.0</td>\n",
       "      <td>5.6</td>\n",
       "      <td>3.0</td>\n",
       "    </tr>\n",
       "    <tr>\n",
       "      <th>2</th>\n",
       "      <td>16.0</td>\n",
       "      <td>6.0</td>\n",
       "      <td>12.0</td>\n",
       "      <td>8.1</td>\n",
       "      <td>10.2</td>\n",
       "      <td>16.0</td>\n",
       "      <td>10.8</td>\n",
       "      <td>10.2</td>\n",
       "      <td>14.8</td>\n",
       "      <td>14.8</td>\n",
       "      <td>...</td>\n",
       "      <td>7.2</td>\n",
       "      <td>8.0</td>\n",
       "      <td>13.6</td>\n",
       "      <td>11.1</td>\n",
       "      <td>6.0</td>\n",
       "      <td>6.8</td>\n",
       "      <td>14.8</td>\n",
       "      <td>14.8</td>\n",
       "      <td>12.0</td>\n",
       "      <td>9.0</td>\n",
       "    </tr>\n",
       "    <tr>\n",
       "      <th>3</th>\n",
       "      <td>4.0</td>\n",
       "      <td>4.8</td>\n",
       "      <td>4.2</td>\n",
       "      <td>3.0</td>\n",
       "      <td>3.0</td>\n",
       "      <td>14.8</td>\n",
       "      <td>5.6</td>\n",
       "      <td>5.1</td>\n",
       "      <td>4.0</td>\n",
       "      <td>9.6</td>\n",
       "      <td>...</td>\n",
       "      <td>3.0</td>\n",
       "      <td>5.4</td>\n",
       "      <td>4.0</td>\n",
       "      <td>8.1</td>\n",
       "      <td>2.8</td>\n",
       "      <td>2.8</td>\n",
       "      <td>13.6</td>\n",
       "      <td>6.8</td>\n",
       "      <td>5.6</td>\n",
       "      <td>6.0</td>\n",
       "    </tr>\n",
       "    <tr>\n",
       "      <th>4</th>\n",
       "      <td>14.8</td>\n",
       "      <td>7.4</td>\n",
       "      <td>11.1</td>\n",
       "      <td>10.2</td>\n",
       "      <td>12.0</td>\n",
       "      <td>16.0</td>\n",
       "      <td>14.8</td>\n",
       "      <td>10.2</td>\n",
       "      <td>16.0</td>\n",
       "      <td>14.8</td>\n",
       "      <td>...</td>\n",
       "      <td>5.1</td>\n",
       "      <td>7.4</td>\n",
       "      <td>10.8</td>\n",
       "      <td>11.1</td>\n",
       "      <td>4.8</td>\n",
       "      <td>7.4</td>\n",
       "      <td>10.8</td>\n",
       "      <td>14.8</td>\n",
       "      <td>10.8</td>\n",
       "      <td>10.2</td>\n",
       "    </tr>\n",
       "  </tbody>\n",
       "</table>\n",
       "<p>5 rows × 33 columns</p>\n",
       "</div>"
      ],
      "text/plain": [
       "   PH-121  HS-101  CY-105  HS-105/12  MT-111  CS-105  CS-106  EL-102  EE-119  \\\n",
       "0    10.8     2.8     5.1        6.0     5.1     5.6     4.0     5.1    10.8   \n",
       "1    16.0     2.0     4.2        3.0     8.1     8.0     4.0    12.0     5.6   \n",
       "2    16.0     6.0    12.0        8.1    10.2    16.0    10.8    10.2    14.8   \n",
       "3     4.0     4.8     4.2        3.0     3.0    14.8     5.6     5.1     4.0   \n",
       "4    14.8     7.4    11.1       10.2    12.0    16.0    14.8    10.2    16.0   \n",
       "\n",
       "   ME-107  ...  EF-303  HS-304  CS-301  CS-302  TC-383  EL-332  CS-318  \\\n",
       "0     6.8  ...     5.1     4.8    12.0     6.0     4.8     4.0     6.8   \n",
       "1     4.0  ...     3.0     3.4    14.8     4.2     3.4     4.0    14.8   \n",
       "2    14.8  ...     7.2     8.0    13.6    11.1     6.0     6.8    14.8   \n",
       "3     9.6  ...     3.0     5.4     4.0     8.1     2.8     2.8    13.6   \n",
       "4    14.8  ...     5.1     7.4    10.8    11.1     4.8     7.4    10.8   \n",
       "\n",
       "   CS-306  CS-312  CS-317  \n",
       "0     8.0     6.8     5.1  \n",
       "1     4.0     5.6     3.0  \n",
       "2    14.8    12.0     9.0  \n",
       "3     6.8     5.6     6.0  \n",
       "4    14.8    10.8    10.2  \n",
       "\n",
       "[5 rows x 33 columns]"
      ]
     },
     "execution_count": 45,
     "metadata": {},
     "output_type": "execute_result"
    }
   ],
   "source": [
    "Third_year.head()"
   ]
  },
  {
   "cell_type": "code",
   "execution_count": 46,
   "id": "5YygFOALPebO",
   "metadata": {
    "id": "5YygFOALPebO"
   },
   "outputs": [],
   "source": [
    "# Splitting training and testing data\n",
    "X_train, X_test, y_train, y_test = train_test_split(Third_year,output,test_size=0.2)"
   ]
  },
  {
   "cell_type": "markdown",
   "id": "_88IS9mVS-5a",
   "metadata": {
    "id": "_88IS9mVS-5a"
   },
   "source": [
    "### Linear Regression"
   ]
  },
  {
   "cell_type": "code",
   "execution_count": 47,
   "id": "Nzd6G3PSP42y",
   "metadata": {
    "id": "Nzd6G3PSP42y"
   },
   "outputs": [],
   "source": [
    "model_lr3=LinearRegression()"
   ]
  },
  {
   "cell_type": "code",
   "execution_count": 48,
   "id": "MlmYlq9VQAw3",
   "metadata": {
    "colab": {
     "base_uri": "https://localhost:8080/"
    },
    "id": "MlmYlq9VQAw3",
    "outputId": "255cdcc4-e3cd-4a43-8612-ae9319ea2359"
   },
   "outputs": [
    {
     "data": {
      "text/plain": [
       "LinearRegression()"
      ]
     },
     "execution_count": 48,
     "metadata": {},
     "output_type": "execute_result"
    }
   ],
   "source": [
    "# Applying model on training data\n",
    "model_lr3.fit(X_train,y_train)"
   ]
  },
  {
   "cell_type": "code",
   "execution_count": 49,
   "id": "rtXg-nq6QFrE",
   "metadata": {
    "colab": {
     "base_uri": "https://localhost:8080/"
    },
    "id": "rtXg-nq6QFrE",
    "outputId": "8492ae8d-853e-4fe1-8608-1e318dc18d09"
   },
   "outputs": [
    {
     "data": {
      "text/plain": [
       "array([3.24852747, 3.64164419, 2.4288441 , 2.33188781, 3.04619513,\n",
       "       2.22076916, 3.68485733, 2.83278221, 2.35654545, 2.83584579,\n",
       "       3.58557768, 3.59202663, 2.76701231, 3.13326144, 2.94226991,\n",
       "       2.64576886, 1.99932095, 3.37120049, 2.95873675, 3.66342446,\n",
       "       2.40133139, 3.4980768 , 3.70134581, 3.42354342, 2.38597174,\n",
       "       2.29130375, 3.40371678, 3.56387268, 3.48553906, 3.86981279,\n",
       "       3.34591534, 3.05833534, 2.2974331 , 2.36148303, 2.25878646,\n",
       "       3.19649308, 3.56718985, 3.75745515, 2.72108486, 3.10989981,\n",
       "       2.67750084, 2.96978921, 3.35154159, 1.83600883, 3.52873113,\n",
       "       3.73134059, 3.23981721, 3.25999612, 2.98223445, 3.59744997,\n",
       "       3.3582972 , 2.00700122, 0.67826078, 1.84192719, 3.13505665,\n",
       "       3.55559341, 3.50815451, 2.70342017, 3.58476261, 3.15572769,\n",
       "       2.67860932, 3.91288367, 3.12297139, 3.07498137, 2.63442462,\n",
       "       3.58863298, 2.54385146, 3.24902003, 3.08542399, 3.19825697,\n",
       "       2.1347278 , 3.63845296, 2.27997976, 3.38692389, 3.82350908,\n",
       "       2.64154743, 2.43233518, 3.80215478, 3.18299856, 2.90353585,\n",
       "       3.44812559, 2.21709276, 2.74465884, 3.24870729, 2.42079057,\n",
       "       2.83260542, 3.26901137, 2.85849003, 3.67094309, 3.02792648,\n",
       "       3.72757128, 1.94182978, 2.68852619, 3.78245456, 3.0341656 ,\n",
       "       3.1570286 , 2.71915735, 0.82574905, 3.44471179, 2.76495642,\n",
       "       2.33148983, 2.21767164, 2.57311254, 2.7057988 , 3.88272977,\n",
       "       2.54917133, 2.91270046, 2.45447768, 2.60942177, 2.75511322,\n",
       "       3.88593804, 2.11143879, 3.14366625, 3.08587501, 3.29858109])"
      ]
     },
     "execution_count": 49,
     "metadata": {},
     "output_type": "execute_result"
    }
   ],
   "source": [
    "# Predictions on test data\n",
    "predictions_lr3=model_lr3.predict(X_test)\n",
    "predictions_lr3"
   ]
  },
  {
   "cell_type": "code",
   "execution_count": 50,
   "id": "ppq6OwEtQMiJ",
   "metadata": {
    "colab": {
     "base_uri": "https://localhost:8080/"
    },
    "id": "ppq6OwEtQMiJ",
    "outputId": "8c02d922-6766-455d-e8ac-09f76e3f419c"
   },
   "outputs": [
    {
     "data": {
      "text/plain": [
       "0.1005165440136232"
      ]
     },
     "execution_count": 50,
     "metadata": {},
     "output_type": "execute_result"
    }
   ],
   "source": [
    "# Calculating RMSE\n",
    "mse=mean_squared_error(y_test,predictions_lr3)\n",
    "rmse=np.sqrt(mse)\n",
    "rmse"
   ]
  },
  {
   "cell_type": "code",
   "execution_count": 51,
   "id": "gQZJrejeQaNm",
   "metadata": {
    "colab": {
     "base_uri": "https://localhost:8080/"
    },
    "id": "gQZJrejeQaNm",
    "outputId": "f24e5ca8-4aaf-4296-f017-b850fb7be644"
   },
   "outputs": [
    {
     "data": {
      "text/plain": [
       "array([0.97816897, 0.9682709 , 0.96333334, 0.96161344, 0.98331026,\n",
       "       0.97557503, 0.96573117, 0.98520392, 0.93627435, 0.97066974])"
      ]
     },
     "execution_count": 51,
     "metadata": {},
     "output_type": "execute_result"
    }
   ],
   "source": [
    "# Test data is cross validated with CV value 10 which returns the array of scores\n",
    "cross_value=cross_val_score(model_lr3, X_test,y_test,cv=10)\n",
    "results.append(cross_value)\n",
    "cross_value"
   ]
  },
  {
   "cell_type": "code",
   "execution_count": 52,
   "id": "rfRCARnKQkgM",
   "metadata": {
    "colab": {
     "base_uri": "https://localhost:8080/"
    },
    "id": "rfRCARnKQkgM",
    "outputId": "7a688e02-ae19-495a-b2b5-d4c4cfdaf17a"
   },
   "outputs": [
    {
     "data": {
      "text/plain": [
       "0.9752686319141365"
      ]
     },
     "execution_count": 52,
     "metadata": {},
     "output_type": "execute_result"
    }
   ],
   "source": [
    "# Calculating accuracy of the model\n",
    "model_lr3.score(X_test,y_test)"
   ]
  },
  {
   "cell_type": "markdown",
   "id": "nonB5DIUQ4sH",
   "metadata": {
    "id": "nonB5DIUQ4sH"
   },
   "source": [
    "### Support Vector Regression"
   ]
  },
  {
   "cell_type": "code",
   "execution_count": 53,
   "id": "QILcaKZHQzHf",
   "metadata": {
    "id": "QILcaKZHQzHf"
   },
   "outputs": [],
   "source": [
    "model_svr3=SVR()"
   ]
  },
  {
   "cell_type": "code",
   "execution_count": 54,
   "id": "WKv1u8BqRFud",
   "metadata": {
    "colab": {
     "base_uri": "https://localhost:8080/"
    },
    "id": "WKv1u8BqRFud",
    "outputId": "53dd4877-abe0-48b3-bed1-1ea7aeecc4c9"
   },
   "outputs": [
    {
     "data": {
      "text/plain": [
       "SVR()"
      ]
     },
     "execution_count": 54,
     "metadata": {},
     "output_type": "execute_result"
    }
   ],
   "source": [
    "# Applying model on training data\n",
    "model_svr3.fit(X_train,y_train)"
   ]
  },
  {
   "cell_type": "code",
   "execution_count": 55,
   "id": "9bAcElOoRKjW",
   "metadata": {
    "colab": {
     "base_uri": "https://localhost:8080/"
    },
    "id": "9bAcElOoRKjW",
    "outputId": "88b98aea-f073-41f9-d086-d62d64b8c474"
   },
   "outputs": [
    {
     "data": {
      "text/plain": [
       "array([3.30379762, 3.69641202, 2.39858053, 2.27771027, 2.91506795,\n",
       "       2.06657081, 3.68337192, 2.77687529, 2.31902762, 2.73422684,\n",
       "       3.66825512, 3.56340338, 2.68336878, 3.05442856, 2.99242991,\n",
       "       2.64832113, 2.03327979, 3.43008278, 2.9287149 , 3.72402328,\n",
       "       2.2348981 , 3.47926167, 3.71691923, 3.46431166, 2.49713477,\n",
       "       2.3271899 , 3.42414734, 3.6345883 , 3.58387771, 3.84309082,\n",
       "       3.25601429, 3.01546428, 2.09746335, 2.16238408, 2.13352106,\n",
       "       3.22704195, 3.49610496, 3.76905562, 2.6939778 , 3.04066131,\n",
       "       2.56314987, 2.83730777, 3.43930258, 1.70211682, 3.66917764,\n",
       "       3.6712112 , 3.1639928 , 3.24185669, 2.8603923 , 3.65586775,\n",
       "       3.3731517 , 1.90559472, 1.22852861, 1.8712341 , 3.28416283,\n",
       "       3.49578788, 3.58934265, 2.54247001, 3.61415801, 3.31987273,\n",
       "       2.65687876, 3.84066175, 3.09813735, 3.11662814, 2.53317889,\n",
       "       3.66299823, 2.71362689, 3.08241974, 2.88000138, 3.21677621,\n",
       "       2.06591314, 3.69503234, 2.10757587, 3.38746285, 3.8432237 ,\n",
       "       2.54866356, 2.41797384, 3.84080653, 3.32497037, 2.77193969,\n",
       "       3.3178776 , 2.09348911, 2.74517687, 3.0669182 , 2.37431508,\n",
       "       2.78252982, 3.22579018, 2.8577044 , 3.67610645, 3.02063402,\n",
       "       3.64189984, 2.0717368 , 2.55871535, 3.77927086, 3.14335668,\n",
       "       2.97678564, 2.70052429, 1.38860522, 3.31178505, 2.81198905,\n",
       "       2.36916673, 2.19171363, 2.50717137, 2.58850037, 3.82916538,\n",
       "       2.53246868, 2.70354785, 2.31843658, 2.5286967 , 2.7771063 ,\n",
       "       3.82669227, 2.02150746, 3.16557069, 2.98255253, 3.19211408])"
      ]
     },
     "execution_count": 55,
     "metadata": {},
     "output_type": "execute_result"
    }
   ],
   "source": [
    "# Predictions on test data \n",
    "predictions_svr3 = model_svr3.predict(X_test)\n",
    "predictions_svr3\n"
   ]
  },
  {
   "cell_type": "code",
   "execution_count": 56,
   "id": "UWKYvD1PRQyo",
   "metadata": {
    "colab": {
     "base_uri": "https://localhost:8080/"
    },
    "id": "UWKYvD1PRQyo",
    "outputId": "e852db2d-0e9f-45c5-dd66-6866d6dcb68b"
   },
   "outputs": [
    {
     "data": {
      "text/plain": [
       "0.09253527277199383"
      ]
     },
     "execution_count": 56,
     "metadata": {},
     "output_type": "execute_result"
    }
   ],
   "source": [
    "# Calculating RMSE\n",
    "mse=mean_squared_error(y_test,predictions_svr3)\n",
    "rmse=np.sqrt(mse)\n",
    "rmse"
   ]
  },
  {
   "cell_type": "code",
   "execution_count": 57,
   "id": "8XcKk3ZjRUnF",
   "metadata": {
    "colab": {
     "base_uri": "https://localhost:8080/"
    },
    "id": "8XcKk3ZjRUnF",
    "outputId": "239ce98e-44b6-4fff-815b-fa7d8a363c7b"
   },
   "outputs": [
    {
     "data": {
      "text/plain": [
       "0.9790401744359605"
      ]
     },
     "execution_count": 57,
     "metadata": {},
     "output_type": "execute_result"
    }
   ],
   "source": [
    "# Calculating accuracy of the model\n",
    "model_svr3.score(X_test,y_test)"
   ]
  },
  {
   "cell_type": "code",
   "execution_count": 58,
   "id": "ozpQ-QkURW6c",
   "metadata": {
    "colab": {
     "base_uri": "https://localhost:8080/"
    },
    "id": "ozpQ-QkURW6c",
    "outputId": "5ef1b23d-76eb-4752-d1a5-f0852693dcc5"
   },
   "outputs": [
    {
     "data": {
      "text/plain": [
       "array([0.98570072, 0.97266954, 0.9760861 , 0.97831753, 0.94046459,\n",
       "       0.94454336, 0.98344836, 0.97830263, 0.94857178, 0.96532819])"
      ]
     },
     "execution_count": 58,
     "metadata": {},
     "output_type": "execute_result"
    }
   ],
   "source": [
    "# Test data is cross validated with CV value 10 which returns the array of scores\n",
    "cross_value=cross_val_score(model_svr3, X_test,y_test,cv=10)\n",
    "results.append(cross_value)\n",
    "cross_value"
   ]
  },
  {
   "cell_type": "markdown",
   "id": "51GKbN1L2vnS",
   "metadata": {
    "id": "51GKbN1L2vnS"
   },
   "source": [
    "# Graphical Comparison of Models"
   ]
  },
  {
   "cell_type": "code",
   "execution_count": 59,
   "id": "ia_UEYef20wB",
   "metadata": {
    "id": "ia_UEYef20wB"
   },
   "outputs": [],
   "source": [
    "# Making list of models \n",
    "models=[('LR1',model_lr),('LR2',model_lr2),('LR3',model_lr3),('SVR1',model_svr),('SVR2',model_svr2),('SVR3',model_svr3)]"
   ]
  },
  {
   "cell_type": "code",
   "execution_count": 60,
   "id": "JpN8W_Xq3mhZ",
   "metadata": {
    "colab": {
     "base_uri": "https://localhost:8080/"
    },
    "id": "JpN8W_Xq3mhZ",
    "outputId": "ba20dfe7-15ff-47d0-d558-8d0b4bc444e6"
   },
   "outputs": [
    {
     "data": {
      "text/plain": [
       "[('LR1', LinearRegression()),\n",
       " ('LR2', LinearRegression()),\n",
       " ('LR3', LinearRegression()),\n",
       " ('SVR1', SVR()),\n",
       " ('SVR2', SVR()),\n",
       " ('SVR3', SVR())]"
      ]
     },
     "execution_count": 60,
     "metadata": {},
     "output_type": "execute_result"
    }
   ],
   "source": [
    "models"
   ]
  },
  {
   "cell_type": "code",
   "execution_count": 61,
   "id": "5dP46Fy73o7D",
   "metadata": {
    "colab": {
     "base_uri": "https://localhost:8080/",
     "height": 294
    },
    "id": "5dP46Fy73o7D",
    "outputId": "42f56dfb-4d71-43d4-9d82-888e8915c0cd"
   },
   "outputs": [
    {
     "data": {
      "image/png": "[encoded data removed]",
      "text/plain": [
       "<Figure size 432x288 with 1 Axes>"
      ]
     },
     "metadata": {
      "needs_background": "light"
     },
     "output_type": "display_data"
    }
   ],
   "source": [
    "names = [] #Variable used to fetch names of the models in list of models\n",
    "for name, model in models:\n",
    "\tnames.append(name)\n",
    "\n",
    "# boxplot of algorithm comparison\n",
    "fig = plt.figure()\n",
    "fig.suptitle('Comparison between different Models')\n",
    "ax = fig.add_subplot(111) # a graph of 1x1\n",
    "plt.boxplot(results)\n",
    "ax.set_xticklabels(names)\n",
    "plt.show()"
   ]
  },
  {
   "cell_type": "code",
   "execution_count": 62,
   "id": "IOsCK8BH6OPD",
   "metadata": {
    "colab": {
     "base_uri": "https://localhost:8080/"
    },
    "id": "IOsCK8BH6OPD",
    "outputId": "66344cd0-c3b7-4a31-b18b-ae1e5116d468"
   },
   "outputs": [],
   "source": [
    "#! pip install gradio #Library used to create UI "
   ]
  },
  {
   "cell_type": "code",
   "execution_count": 63,
   "id": "IQTG_pNo42ZJ",
   "metadata": {
    "id": "IQTG_pNo42ZJ"
   },
   "outputs": [],
   "source": [
    "import gradio as gr"
   ]
  },
  {
   "cell_type": "code",
   "execution_count": 64,
   "id": "DYvh_ccqJAuk",
   "metadata": {
    "id": "DYvh_ccqJAuk"
   },
   "outputs": [],
   "source": [
    "def model_1(PH_121, HS_101, CY_105, HS_105_12, MT_111, CS_105, CS_106,\n",
    "       EL_102, EE_119, ME_107, CS_107):\n",
    "  #locals.values fetch the arguments passed in function, then converted to list then numpy array\n",
    "  attributes = np.array(list(locals().values())).reshape(1,-1) \n",
    "  #array converted to dataframe in order to pre-process data fetched from user\n",
    "  attributes = pd.DataFrame(attributes)\n",
    "  #Assigning GPs to grades\n",
    "  for i in range(0,11):\n",
    "    attributes[i]=attributes[i].map(AssignGPs)\n",
    "  #Multiplying GPs with credit hours\n",
    "  four_cd=[0,5,6,8,9,10]\n",
    "  three_cd=[2,3,4,7]\n",
    "  two_cd=[1]\n",
    "  for i in four_cd:\n",
    "    attributes.iloc[:, i]=attributes.iloc[:, i]*4\n",
    "  for i in three_cd:\n",
    "    attributes.iloc[:, i]=attributes.iloc[:, i]*3\n",
    "  for i in two_cd:\n",
    "    attributes.iloc[:, i]=attributes.iloc[:, i]*2\n",
    "  #data fetched from user are predicted using Support Vector Regressor model of First year\n",
    "  predictions_model1 =  model_svr.predict(attributes)\n",
    "  return predictions_model1"
   ]
  },
  {
   "cell_type": "code",
   "execution_count": 65,
   "id": "nXVx4CKKAVri",
   "metadata": {
    "id": "nXVx4CKKAVri"
   },
   "outputs": [],
   "source": [
    "def model_2(PH_121, HS_101, CY_105, HS_105_12, MT_111, CS_105, CS_106,\n",
    "       EL_102, EE_119, ME_107, CS_107, HS_205_20, MT_222, EE_222,\n",
    "       MT_224, CS_210, CS_211, CS_203, CS_214, EE_217, CS_212,\n",
    "       CS_215):\n",
    "  #locals.values fetch the arguments passed in function, then converted to list then numpy array\n",
    "  attributes = np.array(list(locals().values())).reshape(1,-1)\n",
    "  #array converted to dataframe in order to pre-process data fetched from user\n",
    "  attributes = pd.DataFrame(attributes)\n",
    "  #Assigning GPs to grades\n",
    "  for i in range(0,22):\n",
    "    attributes[i]=attributes[i].map(AssignGPs)\n",
    "  #Multiplying GPs with credit hours\n",
    "  four_cd=[0,5,6,8,9,10,13,18,19,20,21]\n",
    "  three_cd=[2,3,4,7,12,14,15,16]\n",
    "  two_cd=[1,11]\n",
    "  for i in four_cd:\n",
    "    attributes.iloc[:, i]=attributes.iloc[:, i]*4\n",
    "  for i in three_cd:\n",
    "    attributes.iloc[:, i]=attributes.iloc[:, i]*3\n",
    "  for i in two_cd:\n",
    "    attributes.iloc[:, i]=attributes.iloc[:, i]*2\n",
    "  #data fetched from user are predicted using Support Vector Regressor model of Second year\n",
    "  predictions_model2 =  model_svr2.predict(attributes)\n",
    "  return predictions_model2"
   ]
  },
  {
   "cell_type": "code",
   "execution_count": 66,
   "id": "aKliz0YnV9a1",
   "metadata": {
    "id": "aKliz0YnV9a1"
   },
   "outputs": [],
   "source": [
    "def model_3(PH_121, HS_101, CY_105, HS_105_12, MT_111, CS_105, CS_106,\n",
    "       EL_102, EE_119, ME_107, CS_107, HS_205_20, MT_222, EE_222,\n",
    "       MT_224, CS_210, CS_211, CS_203, CS_214, EE_217, CS_212,\n",
    "       CS_215, MT_331, EF_303, HS_304, CS_301, CS_302, TC_383, EL_332, CS_318, CS_306, CS_312, CS_317):\n",
    "  #locals.values fetch the arguments passed in function, then converted to list then numpy array\n",
    "  attributes = np.array(list(locals().values())).reshape(1,-1)\n",
    "  #array converted to dataframe in order to pre-process data fetched from user\n",
    "  attributes = pd.DataFrame(attributes)\n",
    "  #Assigning GPs to grades\n",
    "  for i in range(0,33):\n",
    "    attributes[i]=attributes[i].map(AssignGPs)\n",
    "  #Multiplying GPs with credit hours\n",
    "  four_cd=[0,5,6,8,9,10,13,18,19,20,21,24,28,29,32]\n",
    "  three_cd=[2,3,4,7,12,14,15,16,23,26,27,30]\n",
    "  two_cd=[1,11,22,25,31]\n",
    "  for i in four_cd:\n",
    "    attributes.iloc[:, i]=attributes.iloc[:, i]*4\n",
    "  for i in three_cd:\n",
    "    attributes.iloc[:, i]=attributes.iloc[:, i]*3\n",
    "  for i in two_cd:\n",
    "    attributes.iloc[:, i]=attributes.iloc[:, i]*2\n",
    "  #data fetched from user are predicted using Support Vector Regressor model of Third year\n",
    "  predictions_model3 =  model_svr3.predict(attributes)\n",
    "  return predictions_model3"
   ]
  },
  {
   "cell_type": "code",
   "execution_count": 67,
   "id": "6AMZL-pOpFCv",
   "metadata": {
    "colab": {
     "base_uri": "https://localhost:8080/",
     "height": 643
    },
    "id": "6AMZL-pOpFCv",
    "outputId": "11613122-186b-4c76-84c4-c9ccacebe52c"
   },
   "outputs": [
    {
     "name": "stdout",
     "output_type": "stream",
     "text": [
      "Running on local URL:  http://127.0.0.1:7860/\n",
      "\n",
      "To create a public link, set `share=True` in `launch()`.\n"
     ]
    },
    {
     "data": {
      "text/html": [
       "<div><iframe src=\"http://127.0.0.1:7860/\" width=\"900\" height=\"500\" allow=\"autoplay; camera; microphone;\" frameborder=\"0\" allowfullscreen></iframe></div>"
      ],
      "text/plain": [
       "<IPython.core.display.HTML object>"
      ]
     },
     "metadata": {},
     "output_type": "display_data"
    },
    {
     "data": {
      "text/plain": [
       "(<gradio.routes.App at 0x7f04055512e0>, 'http://127.0.0.1:7860/', None)"
      ]
     },
     "execution_count": 67,
     "metadata": {},
     "output_type": "execute_result"
    }
   ],
   "source": [
    "demo = gr.Blocks()\n",
    "with demo:\n",
    "    gr.Markdown(\"Prediction of CGPA using Machine Learning Models.\")\n",
    "    with gr.Tabs():\n",
    "        with gr.TabItem(\"One Year Model\"):\n",
    "          #UI for First year\n",
    "          gr.Interface(fn=model_1,inputs=['text','text','text','text','text','text','text','text','text','text','text'],outputs='text')#11 courses data is taken from user in the form of grades\n",
    "          #UI for Second year\n",
    "        with gr.TabItem(\"Two Years Model\"):\n",
    "          gr.Interface(fn=model_2,inputs=['text','text','text','text','text','text','text','text','text','text','text','text','text','text','text','text','text','text','text','text','text','text'],outputs='text')#22 courses data is taken from user in the form of grades\n",
    "          #UI for Third year\n",
    "        with gr.TabItem(\"Three Years Model\"):\n",
    "          gr.Interface(fn=model_3,inputs=['text','text','text','text','text','text','text','text','text','text','text','text','text','text','text','text','text','text','text','text','text','text','text','text','text','text','text','text','text','text','text','text','text'],outputs='text')#33 courses data is taken from userin the form of grades\n",
    "\n",
    "demo.launch()"
   ]
  }
 ],
 "metadata": {
  "colab": {
   "collapsed_sections": [],
   "name": "CS-19063_53.ipynb",
   "provenance": []
  },
  "kernelspec": {
   "display_name": "Python 3 (ipykernel)",
   "language": "python",
   "name": "python3"
  },
  "language_info": {
   "codemirror_mode": {
    "name": "ipython",
    "version": 3
   },
   "file_extension": ".py",
   "mimetype": "text/x-python",
   "name": "python",
   "nbconvert_exporter": "python",
   "pygments_lexer": "ipython3",
   "version": "3.9.7"
  }
 },
 "nbformat": 4,
 "nbformat_minor": 5
}
